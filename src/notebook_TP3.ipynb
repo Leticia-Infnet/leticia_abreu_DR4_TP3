{
 "cells": [
  {
   "cell_type": "code",
   "execution_count": 1,
   "metadata": {},
   "outputs": [
    {
     "name": "stderr",
     "output_type": "stream",
     "text": [
      "d:\\leticia_abreu_DR4_TP3\\.venv\\Lib\\site-packages\\tqdm\\auto.py:21: TqdmWarning: IProgress not found. Please update jupyter and ipywidgets. See https://ipywidgets.readthedocs.io/en/stable/user_install.html\n",
      "  from .autonotebook import tqdm as notebook_tqdm\n"
     ]
    }
   ],
   "source": [
    "from bs4 import BeautifulSoup\n",
    "from dotenv import load_dotenv\n",
    "from google.generativeai.types import HarmCategory, HarmBlockThreshold\n",
    "from rouge import Rouge\n",
    "import requests\n",
    "import google.generativeai as genai\n",
    "import pandas as pd\n",
    "import json\n",
    "import sacrebleu\n",
    "import seaborn as sns\n",
    "import matplotlib.pyplot as plt\n",
    "import tiktoken\n",
    "import os"
   ]
  },
  {
   "cell_type": "markdown",
   "metadata": {},
   "source": [
    "### Questão 4 - Meta Prompting para Análise de Sentimento"
   ]
  },
  {
   "cell_type": "code",
   "execution_count": 2,
   "metadata": {},
   "outputs": [],
   "source": [
    "load_dotenv('../.env',\n",
    "            override=True)\n",
    "\n",
    "genai.configure(api_key=os.environ[\"GOOGLE_API_KEY\"])"
   ]
  },
  {
   "cell_type": "markdown",
   "metadata": {},
   "source": [
    "Classe criada para fazer scraping das manchetes do UOL"
   ]
  },
  {
   "cell_type": "code",
   "execution_count": 12,
   "metadata": {},
   "outputs": [],
   "source": [
    "class UolScraping:\n",
    "    def __init__(self, url):\n",
    "        self.url = url\n",
    "        \n",
    "    def scraping(self):\n",
    "        headers = {'User-Agent' : 'Mozilla/5.0 (Windows NT 10.0; Win64; x64; rv:133.0) Gecko/20100101 Firefox/133.0',\n",
    "           'Connection' : 'keep-alive'}\n",
    "        \n",
    "        response = requests.get(url=self.url,\n",
    "                        headers=headers)\n",
    "        \n",
    "        page_content = response.content\n",
    "\n",
    "        soup = BeautifulSoup(page_content, 'html.parser')\n",
    "        \n",
    "        news_list = ['-' + tag.text for tag in soup.css.select('div[class=\"thumb-caption\"]')]\n",
    "\n",
    "        first_line = news_list[1:]\n",
    "\n",
    "        each_line_phrase = '\\n'.join(first_line)\n",
    "\n",
    "        return each_line_phrase \n",
    "        "
   ]
  },
  {
   "cell_type": "markdown",
   "metadata": {},
   "source": [
    "Pegando as manchetes"
   ]
  },
  {
   "cell_type": "code",
   "execution_count": 13,
   "metadata": {},
   "outputs": [],
   "source": [
    "scraping = UolScraping('https://noticias.uol.com.br/')\n",
    "\n",
    "headlines = scraping.scraping()"
   ]
  },
  {
   "cell_type": "markdown",
   "metadata": {},
   "source": [
    "Metaprompt"
   ]
  },
  {
   "cell_type": "code",
   "execution_count": 14,
   "metadata": {},
   "outputs": [],
   "source": [
    "metaprompt = '''\n",
    "Crie um prompt de instrução para um LLM responsável por classificar manchetes de matérias jornalísticas.\n",
    "Uma manchete pode ter somente uma das três categorias: positiva, neutra e negativa.\n",
    "No prompt, você deve utilizar a estratégia de few-shot e dar múltiplos exemplos de manchetes para as três\n",
    "categorias. O LLM deve esperar que cada linha é uma manchete diferente. Lembre-se: este é somente um \n",
    "prompt de instrução para o sistema. Você não deve criar manchetes e pedir, através do prompt, que elas \n",
    "sejam classificadas. Você não deve pedir no prompt coisas como: ensira as manchetes aqui, classifique \n",
    "as manchetes abaixo, entre outros. Lembre-se: o prompt que você irá criar é somente um prompt de instrução para o sistema.\n",
    "Você deve dar uma persona adequada ao LLM.\n",
    "Você deve informar através do prompt que a saída deve ser um objeto JSON, no formato \n",
    "[{\"manchete\" : \"texto\", \"sentimento\" : \"classificação\"},\n",
    "{\"manchete\" : \"texto\", \"sentimento\" : \"classificação\"}, ...] \n",
    "'''"
   ]
  },
  {
   "cell_type": "code",
   "execution_count": 15,
   "metadata": {},
   "outputs": [],
   "source": [
    "model = genai.GenerativeModel(model_name='gemini-1.5-flash')"
   ]
  },
  {
   "cell_type": "markdown",
   "metadata": {},
   "source": [
    "Criação do prompt de instrução"
   ]
  },
  {
   "cell_type": "code",
   "execution_count": 16,
   "metadata": {},
   "outputs": [
    {
     "name": "stdout",
     "output_type": "stream",
     "text": [
      "Você é um classificador de sentimentos especializado em analisar manchetes de notícias.  Seu trabalho é determinar se o sentimento geral expresso em cada manchete é positivo, negativo ou neutro.  Procure pelo sentimento principal, ignorando detalhes menores.  A saída deve ser um objeto JSON com o formato especificado abaixo.\n",
      "\n",
      "\n",
      "**Formato de Saída:**\n",
      "\n",
      "```json\n",
      "[\n",
      "  {\"manchete\": \"texto da manchete\", \"sentimento\": \"positivo\"|\"neutro\"|\"negativo\"},\n",
      "  {\"manchete\": \"texto da manchete\", \"sentimento\": \"positivo\"|\"neutro\"|\"negativo\"},\n",
      "  ...\n",
      "]\n",
      "```\n",
      "\n",
      "**Exemplos:**\n",
      "\n",
      "```\n",
      "Manchete: \"Economia Brasileira Cresce 2% no Último Trimestre\" Sentimento: positivo\n",
      "Manchete: \"Novo Programa de Vacinação Contra a Gripe é Lançado\" Sentimento: positivo\n",
      "Manchete: \"Governo Anuncia Aumento no Salário Mínimo\" Sentimento: positivo\n",
      "Manchete: \"Acidente de Trânsito Deixa Vários Feridos\" Sentimento: negativo\n",
      "Manchete: \"Preços dos Combustíveis Sobem Novamente\" Sentimento: negativo\n",
      "Manchete: \"Crise Energética Ameaça o Abastecimento\" Sentimento: negativo\n",
      "Manchete: \"Número de Casos de Covid-19 se Mantém Estável\" Sentimento: neutro\n",
      "Manchete: \"Eleições Municipais Acontecem Sem Incidentes Graves\" Sentimento: neutro\n",
      "Manchete: \"Governo Apresenta Projeto de Lei Sem Mudanças Significativas\" Sentimento: neutro\n",
      "\n",
      "```\n",
      "\n",
      "Classifique as manchetes apresentadas a seguir seguindo os exemplos acima e o formato JSON especificado.  Cada linha representa uma manchete única.\n",
      "\n"
     ]
    }
   ],
   "source": [
    "response = model.generate_content(metaprompt)\n",
    "\n",
    "new_prompt = response.text\n",
    "\n",
    "print(new_prompt)"
   ]
  },
  {
   "cell_type": "markdown",
   "metadata": {},
   "source": [
    "Passando o prompt de instrução e normalizando a resposta"
   ]
  },
  {
   "cell_type": "code",
   "execution_count": 17,
   "metadata": {},
   "outputs": [],
   "source": [
    "model = genai.GenerativeModel(\n",
    "    \"gemini-1.5-flash\",\n",
    "    system_instruction=new_prompt)"
   ]
  },
  {
   "cell_type": "code",
   "execution_count": 18,
   "metadata": {},
   "outputs": [],
   "source": [
    "json_response = model.generate_content(headlines)"
   ]
  },
  {
   "cell_type": "code",
   "execution_count": 19,
   "metadata": {},
   "outputs": [],
   "source": [
    "json_normalized = json_response.text.replace(\"```json\\n\",'').replace(\"\\n```\",'').replace(\"\\n\", \"\")"
   ]
  },
  {
   "cell_type": "code",
   "execution_count": 20,
   "metadata": {},
   "outputs": [
    {
     "name": "stdout",
     "output_type": "stream",
     "text": [
      "[  {\"manchete\": \"Reino Unido deportou mais de 600 brasileiros em voos 'secretos', diz The Guardian\", \"sentimento\": \"negativo\"},  {\"manchete\": \"Jogadores do Botafogo desfilam pelo Rio após levar a Libertadores\", \"sentimento\": \"positivo\"},  {\"manchete\": \"Sakamoto: Marinha sugere que só ela trabalha e o resto do país é 'come-dorme'\", \"sentimento\": \"negativo\"},  {\"manchete\": \"Juíza torna réus Vaccari, Marcelo Odebrecht e mais 37 investigados na antiga Lava Jato\", \"sentimento\": \"negativo\"},  {\"manchete\": \"Flávio Dino se casa na presença de ministros e desfila com camisa do Botafogo\", \"sentimento\": \"positivo\"},  {\"manchete\": \"Governo Bolsonaro pagou por viagens de engenheiro que questionou urnas\", \"sentimento\": \"negativo\"},  {\"manchete\": \"Verstappen celebra 'corrida inacreditável', e Red Bull brinca: 'Carma é maravilhoso'\", \"sentimento\": \"positivo\"},  {\"manchete\": \"Efraim Filho: Reforma tributária traz imposto sobre Faria Lima ou pequeno varejista?\", \"sentimento\": \"negativo\"},  {\"manchete\": \"Quem é o indicado de Trump ao FBI e por que anúncio causou polêmica nos EUA\", \"sentimento\": \"negativo\"},  {\"manchete\": \"Homens armados e encapuzados fazem arrastão e roubam celulares em bar em SP\", \"sentimento\": \"negativo\"},  {\"manchete\": \"Brasileiro caiu no rio Sena e foi a hospital antes de sumir em Paris, dizem amigos\", \"sentimento\": \"negativo\"},  {\"manchete\": \"'Inferniza a vida dele': pressão por golpe teve protesto na casa de general\", \"sentimento\": \"negativo\"},  {\"manchete\": \"Pacote fiscal e acordo entre Mercosul e União Europeia dominam as atenções\", \"sentimento\": \"neutro\"},  {\"manchete\": \"Condomínio de luxo em SP é tomado por lama pela 3ª vez em 1 mês: 'Risco de matar'\", \"sentimento\": \"negativo\"},  {\"manchete\": \"Após trégua entre Israel e Hezbollah, EUA dizem que há 'caminho a percorrer' para cessar-fogo em Gaza 01/12/2024 20h15\", \"sentimento\": \"neutro\"},  {\"manchete\": \"Hugo Motta já se reuniu com 13 bancadas estaduais em busca de apoio à sucessão de Lira 01/12/2024 20h00\", \"sentimento\": \"neutro\"},  {\"manchete\": \"Casamento de Dino tem presença de ministros do STF e comemoração por título do Botafogo 01/12/2024 20h00\", \"sentimento\": \"positivo\"},  {\"manchete\": \"Elisa Bracher e Ana Cristina Cintra lançarão plataforma contra o abuso sexual infantil A artista plástica Elisa Bracher e a psicanalista Ana Cristina Cintra, fundadoras do Ateliê Escola Acaia, lançarão  01/12/2024 20h00\", \"sentimento\": \"positivo\"},  {\"manchete\": \"Botafogo comemora título da Libertadores com milhares de torcedores no Rio O elenco do Botafogo comemorou neste domingo (1º) pelas ruas do Rio de Janeiro o título da Copa Libertadores,... 01/12/2024 19h58\", \"sentimento\": \"positivo\"},  {\"manchete\": \"Carlos Tavares deixa comando da Stellantis em meio a queda nas vendas e disputa com conselho 01/12/2024 19h58\", \"sentimento\": \"negativo\"},  {\"manchete\": \"Motociclista é flagrado com maconha escondida em bicho de pelúcia em SP 01/12/2024 19h51\", \"sentimento\": \"negativo\"},  {\"manchete\": \"Motorista de Porsche atropela ciclista na zona oeste de SP 01/12/2024 19h47\", \"sentimento\": \"negativo\"},  {\"manchete\": \"Homem é morto a tiros no Jardim Ponta Grossa em Apucarana Um homem foi assassinado a tiros na Avenida Itararé, no bairro Jardim Ponta Grossa, em Apucarana (PR). O crime... 01/12/2024 19h32\", \"sentimento\": \"negativo\"}]\n"
     ]
    }
   ],
   "source": [
    "print(json_normalized)"
   ]
  },
  {
   "cell_type": "code",
   "execution_count": 21,
   "metadata": {},
   "outputs": [],
   "source": [
    "news_json = json_normalized"
   ]
  },
  {
   "cell_type": "code",
   "execution_count": 22,
   "metadata": {},
   "outputs": [],
   "source": [
    "news_json = json.loads(news_json)"
   ]
  },
  {
   "cell_type": "code",
   "execution_count": 23,
   "metadata": {},
   "outputs": [],
   "source": [
    "df = pd.DataFrame(news_json)"
   ]
  },
  {
   "cell_type": "code",
   "execution_count": 24,
   "metadata": {},
   "outputs": [
    {
     "data": {
      "text/html": [
       "<div>\n",
       "<style scoped>\n",
       "    .dataframe tbody tr th:only-of-type {\n",
       "        vertical-align: middle;\n",
       "    }\n",
       "\n",
       "    .dataframe tbody tr th {\n",
       "        vertical-align: top;\n",
       "    }\n",
       "\n",
       "    .dataframe thead th {\n",
       "        text-align: right;\n",
       "    }\n",
       "</style>\n",
       "<table border=\"1\" class=\"dataframe\">\n",
       "  <thead>\n",
       "    <tr style=\"text-align: right;\">\n",
       "      <th></th>\n",
       "      <th>manchete</th>\n",
       "      <th>sentimento</th>\n",
       "    </tr>\n",
       "  </thead>\n",
       "  <tbody>\n",
       "    <tr>\n",
       "      <th>0</th>\n",
       "      <td>Reino Unido deportou mais de 600 brasileiros e...</td>\n",
       "      <td>negativo</td>\n",
       "    </tr>\n",
       "    <tr>\n",
       "      <th>1</th>\n",
       "      <td>Jogadores do Botafogo desfilam pelo Rio após l...</td>\n",
       "      <td>positivo</td>\n",
       "    </tr>\n",
       "    <tr>\n",
       "      <th>2</th>\n",
       "      <td>Sakamoto: Marinha sugere que só ela trabalha e...</td>\n",
       "      <td>negativo</td>\n",
       "    </tr>\n",
       "    <tr>\n",
       "      <th>3</th>\n",
       "      <td>Juíza torna réus Vaccari, Marcelo Odebrecht e ...</td>\n",
       "      <td>negativo</td>\n",
       "    </tr>\n",
       "    <tr>\n",
       "      <th>4</th>\n",
       "      <td>Flávio Dino se casa na presença de ministros e...</td>\n",
       "      <td>positivo</td>\n",
       "    </tr>\n",
       "  </tbody>\n",
       "</table>\n",
       "</div>"
      ],
      "text/plain": [
       "                                            manchete sentimento\n",
       "0  Reino Unido deportou mais de 600 brasileiros e...   negativo\n",
       "1  Jogadores do Botafogo desfilam pelo Rio após l...   positivo\n",
       "2  Sakamoto: Marinha sugere que só ela trabalha e...   negativo\n",
       "3  Juíza torna réus Vaccari, Marcelo Odebrecht e ...   negativo\n",
       "4  Flávio Dino se casa na presença de ministros e...   positivo"
      ]
     },
     "execution_count": 24,
     "metadata": {},
     "output_type": "execute_result"
    }
   ],
   "source": [
    "df.head()"
   ]
  },
  {
   "cell_type": "markdown",
   "metadata": {},
   "source": [
    "Criando um novo dataframe com a contagem de manchetes negativas, neutras e positivas"
   ]
  },
  {
   "cell_type": "code",
   "execution_count": 25,
   "metadata": {},
   "outputs": [],
   "source": [
    "df_count = df.groupby(['sentimento']).size().reset_index(name='counts')"
   ]
  },
  {
   "cell_type": "code",
   "execution_count": 26,
   "metadata": {},
   "outputs": [
    {
     "data": {
      "text/html": [
       "<div>\n",
       "<style scoped>\n",
       "    .dataframe tbody tr th:only-of-type {\n",
       "        vertical-align: middle;\n",
       "    }\n",
       "\n",
       "    .dataframe tbody tr th {\n",
       "        vertical-align: top;\n",
       "    }\n",
       "\n",
       "    .dataframe thead th {\n",
       "        text-align: right;\n",
       "    }\n",
       "</style>\n",
       "<table border=\"1\" class=\"dataframe\">\n",
       "  <thead>\n",
       "    <tr style=\"text-align: right;\">\n",
       "      <th></th>\n",
       "      <th>sentimento</th>\n",
       "      <th>counts</th>\n",
       "    </tr>\n",
       "  </thead>\n",
       "  <tbody>\n",
       "    <tr>\n",
       "      <th>0</th>\n",
       "      <td>negativo</td>\n",
       "      <td>14</td>\n",
       "    </tr>\n",
       "    <tr>\n",
       "      <th>1</th>\n",
       "      <td>neutro</td>\n",
       "      <td>3</td>\n",
       "    </tr>\n",
       "    <tr>\n",
       "      <th>2</th>\n",
       "      <td>positivo</td>\n",
       "      <td>6</td>\n",
       "    </tr>\n",
       "  </tbody>\n",
       "</table>\n",
       "</div>"
      ],
      "text/plain": [
       "  sentimento  counts\n",
       "0   negativo      14\n",
       "1     neutro       3\n",
       "2   positivo       6"
      ]
     },
     "execution_count": 26,
     "metadata": {},
     "output_type": "execute_result"
    }
   ],
   "source": [
    "df_count.head()"
   ]
  },
  {
   "cell_type": "markdown",
   "metadata": {},
   "source": [
    "Criando o gráfico com seaborn"
   ]
  },
  {
   "cell_type": "code",
   "execution_count": 27,
   "metadata": {},
   "outputs": [
    {
     "data": {
      "image/png": "[encoded data removed]",
      "text/plain": [
       "<Figure size 640x480 with 1 Axes>"
      ]
     },
     "metadata": {},
     "output_type": "display_data"
    }
   ],
   "source": [
    "fig = sns.barplot(data=df_count,\n",
    "            y=df_count['counts'],\n",
    "            x=df_count['sentimento']\n",
    "            )\n",
    "\n",
    "plt.xlabel('Sentimento',\n",
    "           labelpad=10.0)\n",
    "plt.ylabel('Contagem',\n",
    "           labelpad=10.0)\n",
    "plt.title('Análise de sentimento de manchetes de matérias jornalísticas')\n",
    "\n",
    "plt.show(fig)"
   ]
  },
  {
   "cell_type": "markdown",
   "metadata": {},
   "source": [
    "## Questão 5 - Base de dados The Simpsons"
   ]
  },
  {
   "cell_type": "markdown",
   "metadata": {},
   "source": [
    "Criando a tabela unificada"
   ]
  },
  {
   "cell_type": "code",
   "execution_count": 9,
   "metadata": {},
   "outputs": [],
   "source": [
    "DATA_PATH = os.path.abspath(os.path.join('..', 'data'))"
   ]
  },
  {
   "cell_type": "markdown",
   "metadata": {},
   "source": [
    "Carregando os arquivos CSV"
   ]
  },
  {
   "cell_type": "code",
   "execution_count": 10,
   "metadata": {},
   "outputs": [],
   "source": [
    "df_script = pd.read_csv(os.path.join(DATA_PATH, 'simpsons_script_lines.csv'),\n",
    "                        low_memory=False,\n",
    "                        quotechar='\"',\n",
    "                        )\n",
    "                        \n",
    "df_episodes = pd.read_csv(os.path.join(DATA_PATH, 'simpsons_episodes.csv'),\n",
    "                        low_memory=False)\n",
    "                          \n",
    "df_characters = pd.read_csv(os.path.join(DATA_PATH, 'simpsons_characters.csv'),\n",
    "                        low_memory=False,\n",
    "                        quotechar='\"')\n",
    "                            \n",
    "df_locations = pd.read_csv(os.path.join(DATA_PATH, 'simpsons_locations.csv'), \n",
    "                        low_memory=False,\n",
    "                        quotechar='\"'\n",
    "                        )     "
   ]
  },
  {
   "cell_type": "markdown",
   "metadata": {},
   "source": [
    "Juntando os dataframes"
   ]
  },
  {
   "cell_type": "code",
   "execution_count": 11,
   "metadata": {},
   "outputs": [],
   "source": [
    "df_script.set_index('id', inplace=True)\n",
    "df_characters['id'] = df_characters['id'].astype(str)\n",
    "\n",
    "df_characters = df_characters.add_prefix('character_')\n",
    "df_locations = df_locations.add_prefix('location_')\n",
    "df_episodes = df_episodes.add_prefix('episode_')\n",
    "\n",
    "data = (\n",
    "    df_script.merge(df_episodes, left_on='episode_id', right_on='episode_id')\n",
    "             .merge(df_characters, left_on='character_id', right_on='character_id', how='left')\n",
    "             .merge(df_locations, left_on='location_id', right_on='location_id', how='left')\n",
    ")\n",
    "\n",
    "\n",
    "assert data.shape[0] == df_script.shape[0]"
   ]
  },
  {
   "cell_type": "code",
   "execution_count": 12,
   "metadata": {},
   "outputs": [
    {
     "data": {
      "text/html": [
       "<div>\n",
       "<style scoped>\n",
       "    .dataframe tbody tr th:only-of-type {\n",
       "        vertical-align: middle;\n",
       "    }\n",
       "\n",
       "    .dataframe tbody tr th {\n",
       "        vertical-align: top;\n",
       "    }\n",
       "\n",
       "    .dataframe thead th {\n",
       "        text-align: right;\n",
       "    }\n",
       "</style>\n",
       "<table border=\"1\" class=\"dataframe\">\n",
       "  <thead>\n",
       "    <tr style=\"text-align: right;\">\n",
       "      <th></th>\n",
       "      <th>0</th>\n",
       "      <th>1</th>\n",
       "      <th>2</th>\n",
       "      <th>3</th>\n",
       "      <th>4</th>\n",
       "    </tr>\n",
       "  </thead>\n",
       "  <tbody>\n",
       "    <tr>\n",
       "      <th>episode_id</th>\n",
       "      <td>32</td>\n",
       "      <td>32</td>\n",
       "      <td>32</td>\n",
       "      <td>32</td>\n",
       "      <td>32</td>\n",
       "    </tr>\n",
       "    <tr>\n",
       "      <th>number</th>\n",
       "      <td>209</td>\n",
       "      <td>210</td>\n",
       "      <td>211</td>\n",
       "      <td>212</td>\n",
       "      <td>213</td>\n",
       "    </tr>\n",
       "    <tr>\n",
       "      <th>raw_text</th>\n",
       "      <td>Miss Hoover: No, actually, it was a little of ...</td>\n",
       "      <td>Lisa Simpson: (NEAR TEARS) Where's Mr. Bergstrom?</td>\n",
       "      <td>Miss Hoover: I don't know. Although I'd sure l...</td>\n",
       "      <td>Lisa Simpson: That life is worth living.</td>\n",
       "      <td>Edna Krabappel-Flanders: The polls will be ope...</td>\n",
       "    </tr>\n",
       "    <tr>\n",
       "      <th>timestamp_in_ms</th>\n",
       "      <td>848000</td>\n",
       "      <td>856000</td>\n",
       "      <td>856000</td>\n",
       "      <td>864000</td>\n",
       "      <td>864000</td>\n",
       "    </tr>\n",
       "    <tr>\n",
       "      <th>speaking_line</th>\n",
       "      <td>true</td>\n",
       "      <td>true</td>\n",
       "      <td>true</td>\n",
       "      <td>true</td>\n",
       "      <td>true</td>\n",
       "    </tr>\n",
       "    <tr>\n",
       "      <th>character_id</th>\n",
       "      <td>464</td>\n",
       "      <td>9</td>\n",
       "      <td>464</td>\n",
       "      <td>9</td>\n",
       "      <td>40</td>\n",
       "    </tr>\n",
       "    <tr>\n",
       "      <th>location_id</th>\n",
       "      <td>3.0</td>\n",
       "      <td>3.0</td>\n",
       "      <td>3.0</td>\n",
       "      <td>3.0</td>\n",
       "      <td>3.0</td>\n",
       "    </tr>\n",
       "    <tr>\n",
       "      <th>raw_character_text</th>\n",
       "      <td>Miss Hoover</td>\n",
       "      <td>Lisa Simpson</td>\n",
       "      <td>Miss Hoover</td>\n",
       "      <td>Lisa Simpson</td>\n",
       "      <td>Edna Krabappel-Flanders</td>\n",
       "    </tr>\n",
       "    <tr>\n",
       "      <th>raw_location_text</th>\n",
       "      <td>Springfield Elementary School</td>\n",
       "      <td>Springfield Elementary School</td>\n",
       "      <td>Springfield Elementary School</td>\n",
       "      <td>Springfield Elementary School</td>\n",
       "      <td>Springfield Elementary School</td>\n",
       "    </tr>\n",
       "    <tr>\n",
       "      <th>spoken_words</th>\n",
       "      <td>No, actually, it was a little of both. Sometim...</td>\n",
       "      <td>Where's Mr. Bergstrom?</td>\n",
       "      <td>I don't know. Although I'd sure like to talk t...</td>\n",
       "      <td>That life is worth living.</td>\n",
       "      <td>The polls will be open from now until the end ...</td>\n",
       "    </tr>\n",
       "    <tr>\n",
       "      <th>normalized_text</th>\n",
       "      <td>no actually it was a little of both sometimes ...</td>\n",
       "      <td>wheres mr bergstrom</td>\n",
       "      <td>i dont know although id sure like to talk to h...</td>\n",
       "      <td>that life is worth living</td>\n",
       "      <td>the polls will be open from now until the end ...</td>\n",
       "    </tr>\n",
       "    <tr>\n",
       "      <th>word_count</th>\n",
       "      <td>31</td>\n",
       "      <td>3</td>\n",
       "      <td>22</td>\n",
       "      <td>5</td>\n",
       "      <td>33</td>\n",
       "    </tr>\n",
       "    <tr>\n",
       "      <th>episode_image_url</th>\n",
       "      <td>http://static-media.fxx.com/img/FX_Networks_-_...</td>\n",
       "      <td>http://static-media.fxx.com/img/FX_Networks_-_...</td>\n",
       "      <td>http://static-media.fxx.com/img/FX_Networks_-_...</td>\n",
       "      <td>http://static-media.fxx.com/img/FX_Networks_-_...</td>\n",
       "      <td>http://static-media.fxx.com/img/FX_Networks_-_...</td>\n",
       "    </tr>\n",
       "    <tr>\n",
       "      <th>episode_imdb_rating</th>\n",
       "      <td>8.5</td>\n",
       "      <td>8.5</td>\n",
       "      <td>8.5</td>\n",
       "      <td>8.5</td>\n",
       "      <td>8.5</td>\n",
       "    </tr>\n",
       "    <tr>\n",
       "      <th>episode_imdb_votes</th>\n",
       "      <td>1684.0</td>\n",
       "      <td>1684.0</td>\n",
       "      <td>1684.0</td>\n",
       "      <td>1684.0</td>\n",
       "      <td>1684.0</td>\n",
       "    </tr>\n",
       "    <tr>\n",
       "      <th>episode_number_in_season</th>\n",
       "      <td>19</td>\n",
       "      <td>19</td>\n",
       "      <td>19</td>\n",
       "      <td>19</td>\n",
       "      <td>19</td>\n",
       "    </tr>\n",
       "    <tr>\n",
       "      <th>episode_number_in_series</th>\n",
       "      <td>32</td>\n",
       "      <td>32</td>\n",
       "      <td>32</td>\n",
       "      <td>32</td>\n",
       "      <td>32</td>\n",
       "    </tr>\n",
       "    <tr>\n",
       "      <th>episode_original_air_date</th>\n",
       "      <td>1991-04-25</td>\n",
       "      <td>1991-04-25</td>\n",
       "      <td>1991-04-25</td>\n",
       "      <td>1991-04-25</td>\n",
       "      <td>1991-04-25</td>\n",
       "    </tr>\n",
       "    <tr>\n",
       "      <th>episode_original_air_year</th>\n",
       "      <td>1991</td>\n",
       "      <td>1991</td>\n",
       "      <td>1991</td>\n",
       "      <td>1991</td>\n",
       "      <td>1991</td>\n",
       "    </tr>\n",
       "    <tr>\n",
       "      <th>episode_production_code</th>\n",
       "      <td>7F19</td>\n",
       "      <td>7F19</td>\n",
       "      <td>7F19</td>\n",
       "      <td>7F19</td>\n",
       "      <td>7F19</td>\n",
       "    </tr>\n",
       "    <tr>\n",
       "      <th>episode_season</th>\n",
       "      <td>2</td>\n",
       "      <td>2</td>\n",
       "      <td>2</td>\n",
       "      <td>2</td>\n",
       "      <td>2</td>\n",
       "    </tr>\n",
       "    <tr>\n",
       "      <th>episode_title</th>\n",
       "      <td>Lisa's Substitute</td>\n",
       "      <td>Lisa's Substitute</td>\n",
       "      <td>Lisa's Substitute</td>\n",
       "      <td>Lisa's Substitute</td>\n",
       "      <td>Lisa's Substitute</td>\n",
       "    </tr>\n",
       "    <tr>\n",
       "      <th>episode_us_viewers_in_millions</th>\n",
       "      <td>17.7</td>\n",
       "      <td>17.7</td>\n",
       "      <td>17.7</td>\n",
       "      <td>17.7</td>\n",
       "      <td>17.7</td>\n",
       "    </tr>\n",
       "    <tr>\n",
       "      <th>episode_video_url</th>\n",
       "      <td>http://www.simpsonsworld.com/video/288011331912</td>\n",
       "      <td>http://www.simpsonsworld.com/video/288011331912</td>\n",
       "      <td>http://www.simpsonsworld.com/video/288011331912</td>\n",
       "      <td>http://www.simpsonsworld.com/video/288011331912</td>\n",
       "      <td>http://www.simpsonsworld.com/video/288011331912</td>\n",
       "    </tr>\n",
       "    <tr>\n",
       "      <th>episode_views</th>\n",
       "      <td>52770.0</td>\n",
       "      <td>52770.0</td>\n",
       "      <td>52770.0</td>\n",
       "      <td>52770.0</td>\n",
       "      <td>52770.0</td>\n",
       "    </tr>\n",
       "    <tr>\n",
       "      <th>character_name</th>\n",
       "      <td>Miss Hoover</td>\n",
       "      <td>Lisa Simpson</td>\n",
       "      <td>Miss Hoover</td>\n",
       "      <td>Lisa Simpson</td>\n",
       "      <td>Edna Krabappel-Flanders</td>\n",
       "    </tr>\n",
       "    <tr>\n",
       "      <th>character_normalized_name</th>\n",
       "      <td>miss hoover</td>\n",
       "      <td>lisa simpson</td>\n",
       "      <td>miss hoover</td>\n",
       "      <td>lisa simpson</td>\n",
       "      <td>edna krabappel-flanders</td>\n",
       "    </tr>\n",
       "    <tr>\n",
       "      <th>character_gender</th>\n",
       "      <td>f</td>\n",
       "      <td>f</td>\n",
       "      <td>f</td>\n",
       "      <td>f</td>\n",
       "      <td>f</td>\n",
       "    </tr>\n",
       "    <tr>\n",
       "      <th>location_name</th>\n",
       "      <td>Springfield Elementary School</td>\n",
       "      <td>Springfield Elementary School</td>\n",
       "      <td>Springfield Elementary School</td>\n",
       "      <td>Springfield Elementary School</td>\n",
       "      <td>Springfield Elementary School</td>\n",
       "    </tr>\n",
       "    <tr>\n",
       "      <th>location_normalized_name</th>\n",
       "      <td>springfield elementary school</td>\n",
       "      <td>springfield elementary school</td>\n",
       "      <td>springfield elementary school</td>\n",
       "      <td>springfield elementary school</td>\n",
       "      <td>springfield elementary school</td>\n",
       "    </tr>\n",
       "  </tbody>\n",
       "</table>\n",
       "</div>"
      ],
      "text/plain": [
       "                                                                                0  \\\n",
       "episode_id                                                                     32   \n",
       "number                                                                        209   \n",
       "raw_text                        Miss Hoover: No, actually, it was a little of ...   \n",
       "timestamp_in_ms                                                            848000   \n",
       "speaking_line                                                                true   \n",
       "character_id                                                                  464   \n",
       "location_id                                                                   3.0   \n",
       "raw_character_text                                                    Miss Hoover   \n",
       "raw_location_text                                   Springfield Elementary School   \n",
       "spoken_words                    No, actually, it was a little of both. Sometim...   \n",
       "normalized_text                 no actually it was a little of both sometimes ...   \n",
       "word_count                                                                     31   \n",
       "episode_image_url               http://static-media.fxx.com/img/FX_Networks_-_...   \n",
       "episode_imdb_rating                                                           8.5   \n",
       "episode_imdb_votes                                                         1684.0   \n",
       "episode_number_in_season                                                       19   \n",
       "episode_number_in_series                                                       32   \n",
       "episode_original_air_date                                              1991-04-25   \n",
       "episode_original_air_year                                                    1991   \n",
       "episode_production_code                                                      7F19   \n",
       "episode_season                                                                  2   \n",
       "episode_title                                                   Lisa's Substitute   \n",
       "episode_us_viewers_in_millions                                               17.7   \n",
       "episode_video_url                 http://www.simpsonsworld.com/video/288011331912   \n",
       "episode_views                                                             52770.0   \n",
       "character_name                                                        Miss Hoover   \n",
       "character_normalized_name                                             miss hoover   \n",
       "character_gender                                                                f   \n",
       "location_name                                       Springfield Elementary School   \n",
       "location_normalized_name                            springfield elementary school   \n",
       "\n",
       "                                                                                1  \\\n",
       "episode_id                                                                     32   \n",
       "number                                                                        210   \n",
       "raw_text                        Lisa Simpson: (NEAR TEARS) Where's Mr. Bergstrom?   \n",
       "timestamp_in_ms                                                            856000   \n",
       "speaking_line                                                                true   \n",
       "character_id                                                                    9   \n",
       "location_id                                                                   3.0   \n",
       "raw_character_text                                                   Lisa Simpson   \n",
       "raw_location_text                                   Springfield Elementary School   \n",
       "spoken_words                                               Where's Mr. Bergstrom?   \n",
       "normalized_text                                               wheres mr bergstrom   \n",
       "word_count                                                                      3   \n",
       "episode_image_url               http://static-media.fxx.com/img/FX_Networks_-_...   \n",
       "episode_imdb_rating                                                           8.5   \n",
       "episode_imdb_votes                                                         1684.0   \n",
       "episode_number_in_season                                                       19   \n",
       "episode_number_in_series                                                       32   \n",
       "episode_original_air_date                                              1991-04-25   \n",
       "episode_original_air_year                                                    1991   \n",
       "episode_production_code                                                      7F19   \n",
       "episode_season                                                                  2   \n",
       "episode_title                                                   Lisa's Substitute   \n",
       "episode_us_viewers_in_millions                                               17.7   \n",
       "episode_video_url                 http://www.simpsonsworld.com/video/288011331912   \n",
       "episode_views                                                             52770.0   \n",
       "character_name                                                       Lisa Simpson   \n",
       "character_normalized_name                                            lisa simpson   \n",
       "character_gender                                                                f   \n",
       "location_name                                       Springfield Elementary School   \n",
       "location_normalized_name                            springfield elementary school   \n",
       "\n",
       "                                                                                2  \\\n",
       "episode_id                                                                     32   \n",
       "number                                                                        211   \n",
       "raw_text                        Miss Hoover: I don't know. Although I'd sure l...   \n",
       "timestamp_in_ms                                                            856000   \n",
       "speaking_line                                                                true   \n",
       "character_id                                                                  464   \n",
       "location_id                                                                   3.0   \n",
       "raw_character_text                                                    Miss Hoover   \n",
       "raw_location_text                                   Springfield Elementary School   \n",
       "spoken_words                    I don't know. Although I'd sure like to talk t...   \n",
       "normalized_text                 i dont know although id sure like to talk to h...   \n",
       "word_count                                                                     22   \n",
       "episode_image_url               http://static-media.fxx.com/img/FX_Networks_-_...   \n",
       "episode_imdb_rating                                                           8.5   \n",
       "episode_imdb_votes                                                         1684.0   \n",
       "episode_number_in_season                                                       19   \n",
       "episode_number_in_series                                                       32   \n",
       "episode_original_air_date                                              1991-04-25   \n",
       "episode_original_air_year                                                    1991   \n",
       "episode_production_code                                                      7F19   \n",
       "episode_season                                                                  2   \n",
       "episode_title                                                   Lisa's Substitute   \n",
       "episode_us_viewers_in_millions                                               17.7   \n",
       "episode_video_url                 http://www.simpsonsworld.com/video/288011331912   \n",
       "episode_views                                                             52770.0   \n",
       "character_name                                                        Miss Hoover   \n",
       "character_normalized_name                                             miss hoover   \n",
       "character_gender                                                                f   \n",
       "location_name                                       Springfield Elementary School   \n",
       "location_normalized_name                            springfield elementary school   \n",
       "\n",
       "                                                                                3  \\\n",
       "episode_id                                                                     32   \n",
       "number                                                                        212   \n",
       "raw_text                                 Lisa Simpson: That life is worth living.   \n",
       "timestamp_in_ms                                                            864000   \n",
       "speaking_line                                                                true   \n",
       "character_id                                                                    9   \n",
       "location_id                                                                   3.0   \n",
       "raw_character_text                                                   Lisa Simpson   \n",
       "raw_location_text                                   Springfield Elementary School   \n",
       "spoken_words                                           That life is worth living.   \n",
       "normalized_text                                         that life is worth living   \n",
       "word_count                                                                      5   \n",
       "episode_image_url               http://static-media.fxx.com/img/FX_Networks_-_...   \n",
       "episode_imdb_rating                                                           8.5   \n",
       "episode_imdb_votes                                                         1684.0   \n",
       "episode_number_in_season                                                       19   \n",
       "episode_number_in_series                                                       32   \n",
       "episode_original_air_date                                              1991-04-25   \n",
       "episode_original_air_year                                                    1991   \n",
       "episode_production_code                                                      7F19   \n",
       "episode_season                                                                  2   \n",
       "episode_title                                                   Lisa's Substitute   \n",
       "episode_us_viewers_in_millions                                               17.7   \n",
       "episode_video_url                 http://www.simpsonsworld.com/video/288011331912   \n",
       "episode_views                                                             52770.0   \n",
       "character_name                                                       Lisa Simpson   \n",
       "character_normalized_name                                            lisa simpson   \n",
       "character_gender                                                                f   \n",
       "location_name                                       Springfield Elementary School   \n",
       "location_normalized_name                            springfield elementary school   \n",
       "\n",
       "                                                                                4  \n",
       "episode_id                                                                     32  \n",
       "number                                                                        213  \n",
       "raw_text                        Edna Krabappel-Flanders: The polls will be ope...  \n",
       "timestamp_in_ms                                                            864000  \n",
       "speaking_line                                                                true  \n",
       "character_id                                                                   40  \n",
       "location_id                                                                   3.0  \n",
       "raw_character_text                                        Edna Krabappel-Flanders  \n",
       "raw_location_text                                   Springfield Elementary School  \n",
       "spoken_words                    The polls will be open from now until the end ...  \n",
       "normalized_text                 the polls will be open from now until the end ...  \n",
       "word_count                                                                     33  \n",
       "episode_image_url               http://static-media.fxx.com/img/FX_Networks_-_...  \n",
       "episode_imdb_rating                                                           8.5  \n",
       "episode_imdb_votes                                                         1684.0  \n",
       "episode_number_in_season                                                       19  \n",
       "episode_number_in_series                                                       32  \n",
       "episode_original_air_date                                              1991-04-25  \n",
       "episode_original_air_year                                                    1991  \n",
       "episode_production_code                                                      7F19  \n",
       "episode_season                                                                  2  \n",
       "episode_title                                                   Lisa's Substitute  \n",
       "episode_us_viewers_in_millions                                               17.7  \n",
       "episode_video_url                 http://www.simpsonsworld.com/video/288011331912  \n",
       "episode_views                                                             52770.0  \n",
       "character_name                                            Edna Krabappel-Flanders  \n",
       "character_normalized_name                                 edna krabappel-flanders  \n",
       "character_gender                                                                f  \n",
       "location_name                                       Springfield Elementary School  \n",
       "location_normalized_name                            springfield elementary school  "
      ]
     },
     "execution_count": 12,
     "metadata": {},
     "output_type": "execute_result"
    }
   ],
   "source": [
    "data.head().T"
   ]
  },
  {
   "cell_type": "markdown",
   "metadata": {},
   "source": [
    "Função para calcular o número de tokens"
   ]
  },
  {
   "cell_type": "code",
   "execution_count": 27,
   "metadata": {},
   "outputs": [],
   "source": [
    "def estimar_tokens(texto):\n",
    "    encoder = tiktoken.get_encoding(\"cl100k_base\")  # Exemplo de codificação\n",
    "    # encoder = tiktoken.get_encoding(\"gpt-4o\")  # Exemplo de codificação\n",
    "    tokens = encoder.encode(texto)\n",
    "    return tokens"
   ]
  },
  {
   "cell_type": "code",
   "execution_count": 13,
   "metadata": {},
   "outputs": [],
   "source": [
    "X = data.dropna(subset='normalized_text').copy()"
   ]
  },
  {
   "cell_type": "markdown",
   "metadata": {},
   "source": [
    "Fazendo um subset do dataframe original contendo somente o id do episodio, da season, e as falas"
   ]
  },
  {
   "cell_type": "code",
   "execution_count": 21,
   "metadata": {},
   "outputs": [
    {
     "data": {
      "text/html": [
       "<div>\n",
       "<style scoped>\n",
       "    .dataframe tbody tr th:only-of-type {\n",
       "        vertical-align: middle;\n",
       "    }\n",
       "\n",
       "    .dataframe tbody tr th {\n",
       "        vertical-align: top;\n",
       "    }\n",
       "\n",
       "    .dataframe thead th {\n",
       "        text-align: right;\n",
       "    }\n",
       "</style>\n",
       "<table border=\"1\" class=\"dataframe\">\n",
       "  <thead>\n",
       "    <tr style=\"text-align: right;\">\n",
       "      <th></th>\n",
       "      <th>episode_id</th>\n",
       "      <th>episode_season</th>\n",
       "      <th>normalized_text</th>\n",
       "    </tr>\n",
       "  </thead>\n",
       "  <tbody>\n",
       "    <tr>\n",
       "      <th>0</th>\n",
       "      <td>32</td>\n",
       "      <td>2</td>\n",
       "      <td>no actually it was a little of both sometimes ...</td>\n",
       "    </tr>\n",
       "    <tr>\n",
       "      <th>1</th>\n",
       "      <td>32</td>\n",
       "      <td>2</td>\n",
       "      <td>wheres mr bergstrom</td>\n",
       "    </tr>\n",
       "    <tr>\n",
       "      <th>2</th>\n",
       "      <td>32</td>\n",
       "      <td>2</td>\n",
       "      <td>i dont know although id sure like to talk to h...</td>\n",
       "    </tr>\n",
       "    <tr>\n",
       "      <th>3</th>\n",
       "      <td>32</td>\n",
       "      <td>2</td>\n",
       "      <td>that life is worth living</td>\n",
       "    </tr>\n",
       "    <tr>\n",
       "      <th>4</th>\n",
       "      <td>32</td>\n",
       "      <td>2</td>\n",
       "      <td>the polls will be open from now until the end ...</td>\n",
       "    </tr>\n",
       "  </tbody>\n",
       "</table>\n",
       "</div>"
      ],
      "text/plain": [
       "   episode_id  episode_season  \\\n",
       "0          32               2   \n",
       "1          32               2   \n",
       "2          32               2   \n",
       "3          32               2   \n",
       "4          32               2   \n",
       "\n",
       "                                     normalized_text  \n",
       "0  no actually it was a little of both sometimes ...  \n",
       "1                                wheres mr bergstrom  \n",
       "2  i dont know although id sure like to talk to h...  \n",
       "3                          that life is worth living  \n",
       "4  the polls will be open from now until the end ...  "
      ]
     },
     "execution_count": 21,
     "metadata": {},
     "output_type": "execute_result"
    }
   ],
   "source": [
    "X_subset_text = X[['episode_id', 'episode_season', 'normalized_text']].copy()\n",
    "X_subset_text.head()"
   ]
  },
  {
   "cell_type": "markdown",
   "metadata": {},
   "source": [
    "Aplicando a função de cálculo de tokens"
   ]
  },
  {
   "cell_type": "code",
   "execution_count": 35,
   "metadata": {},
   "outputs": [
    {
     "data": {
      "text/html": [
       "<div>\n",
       "<style scoped>\n",
       "    .dataframe tbody tr th:only-of-type {\n",
       "        vertical-align: middle;\n",
       "    }\n",
       "\n",
       "    .dataframe tbody tr th {\n",
       "        vertical-align: top;\n",
       "    }\n",
       "\n",
       "    .dataframe thead th {\n",
       "        text-align: right;\n",
       "    }\n",
       "</style>\n",
       "<table border=\"1\" class=\"dataframe\">\n",
       "  <thead>\n",
       "    <tr style=\"text-align: right;\">\n",
       "      <th></th>\n",
       "      <th>episode_id</th>\n",
       "      <th>episode_season</th>\n",
       "      <th>normalized_text</th>\n",
       "      <th>n_tokens</th>\n",
       "    </tr>\n",
       "  </thead>\n",
       "  <tbody>\n",
       "    <tr>\n",
       "      <th>0</th>\n",
       "      <td>32</td>\n",
       "      <td>2</td>\n",
       "      <td>no actually it was a little of both sometimes ...</td>\n",
       "      <td>31</td>\n",
       "    </tr>\n",
       "    <tr>\n",
       "      <th>1</th>\n",
       "      <td>32</td>\n",
       "      <td>2</td>\n",
       "      <td>wheres mr bergstrom</td>\n",
       "      <td>5</td>\n",
       "    </tr>\n",
       "    <tr>\n",
       "      <th>2</th>\n",
       "      <td>32</td>\n",
       "      <td>2</td>\n",
       "      <td>i dont know although id sure like to talk to h...</td>\n",
       "      <td>22</td>\n",
       "    </tr>\n",
       "    <tr>\n",
       "      <th>3</th>\n",
       "      <td>32</td>\n",
       "      <td>2</td>\n",
       "      <td>that life is worth living</td>\n",
       "      <td>5</td>\n",
       "    </tr>\n",
       "    <tr>\n",
       "      <th>4</th>\n",
       "      <td>32</td>\n",
       "      <td>2</td>\n",
       "      <td>the polls will be open from now until the end ...</td>\n",
       "      <td>33</td>\n",
       "    </tr>\n",
       "  </tbody>\n",
       "</table>\n",
       "</div>"
      ],
      "text/plain": [
       "   episode_id  episode_season  \\\n",
       "0          32               2   \n",
       "1          32               2   \n",
       "2          32               2   \n",
       "3          32               2   \n",
       "4          32               2   \n",
       "\n",
       "                                     normalized_text  n_tokens  \n",
       "0  no actually it was a little of both sometimes ...        31  \n",
       "1                                wheres mr bergstrom         5  \n",
       "2  i dont know although id sure like to talk to h...        22  \n",
       "3                          that life is worth living         5  \n",
       "4  the polls will be open from now until the end ...        33  "
      ]
     },
     "execution_count": 35,
     "metadata": {},
     "output_type": "execute_result"
    }
   ],
   "source": [
    "X_subset_text['n_tokens'] = X_subset_text.normalized_text.fillna('').apply(lambda x: len(estimar_tokens(x)))\n",
    "X_subset_text.head()"
   ]
  },
  {
   "cell_type": "markdown",
   "metadata": {},
   "source": [
    "Criando um subset só com episódio, season e número de tokens"
   ]
  },
  {
   "cell_type": "code",
   "execution_count": 45,
   "metadata": {},
   "outputs": [
    {
     "data": {
      "text/html": [
       "<div>\n",
       "<style scoped>\n",
       "    .dataframe tbody tr th:only-of-type {\n",
       "        vertical-align: middle;\n",
       "    }\n",
       "\n",
       "    .dataframe tbody tr th {\n",
       "        vertical-align: top;\n",
       "    }\n",
       "\n",
       "    .dataframe thead th {\n",
       "        text-align: right;\n",
       "    }\n",
       "</style>\n",
       "<table border=\"1\" class=\"dataframe\">\n",
       "  <thead>\n",
       "    <tr style=\"text-align: right;\">\n",
       "      <th></th>\n",
       "      <th></th>\n",
       "      <th>n_tokens</th>\n",
       "    </tr>\n",
       "    <tr>\n",
       "      <th>episode_id</th>\n",
       "      <th>episode_season</th>\n",
       "      <th></th>\n",
       "    </tr>\n",
       "  </thead>\n",
       "  <tbody>\n",
       "    <tr>\n",
       "      <th>1</th>\n",
       "      <th>1</th>\n",
       "      <td>3246</td>\n",
       "    </tr>\n",
       "    <tr>\n",
       "      <th>2</th>\n",
       "      <th>1</th>\n",
       "      <td>3029</td>\n",
       "    </tr>\n",
       "    <tr>\n",
       "      <th>3</th>\n",
       "      <th>1</th>\n",
       "      <td>2535</td>\n",
       "    </tr>\n",
       "    <tr>\n",
       "      <th>4</th>\n",
       "      <th>1</th>\n",
       "      <td>2995</td>\n",
       "    </tr>\n",
       "    <tr>\n",
       "      <th>5</th>\n",
       "      <th>1</th>\n",
       "      <td>2788</td>\n",
       "    </tr>\n",
       "  </tbody>\n",
       "</table>\n",
       "</div>"
      ],
      "text/plain": [
       "                           n_tokens\n",
       "episode_id episode_season          \n",
       "1          1                   3246\n",
       "2          1                   3029\n",
       "3          1                   2535\n",
       "4          1                   2995\n",
       "5          1                   2788"
      ]
     },
     "execution_count": 45,
     "metadata": {},
     "output_type": "execute_result"
    }
   ],
   "source": [
    "X_subset_tokens_ep = X_subset_text.groupby(['episode_id', 'episode_season'])['n_tokens'].sum().to_frame()\n",
    "\n",
    "X_subset_tokens_ep.head()"
   ]
  },
  {
   "cell_type": "markdown",
   "metadata": {},
   "source": [
    "Calculando o número médio de tokens por episódio"
   ]
  },
  {
   "cell_type": "code",
   "execution_count": 48,
   "metadata": {},
   "outputs": [
    {
     "name": "stdout",
     "output_type": "stream",
     "text": [
      "O número médio de tokens por episódio é de 2606 tokens\n"
     ]
    }
   ],
   "source": [
    "media_ep = X_subset_tokens_ep['n_tokens'].mean()\n",
    "\n",
    "print(f'O número médio de tokens por episódio é de {int(media_ep)} tokens')"
   ]
  },
  {
   "cell_type": "markdown",
   "metadata": {},
   "source": [
    "Criando um subset só com season e número de tokens"
   ]
  },
  {
   "cell_type": "code",
   "execution_count": 49,
   "metadata": {},
   "outputs": [
    {
     "data": {
      "text/html": [
       "<div>\n",
       "<style scoped>\n",
       "    .dataframe tbody tr th:only-of-type {\n",
       "        vertical-align: middle;\n",
       "    }\n",
       "\n",
       "    .dataframe tbody tr th {\n",
       "        vertical-align: top;\n",
       "    }\n",
       "\n",
       "    .dataframe thead th {\n",
       "        text-align: right;\n",
       "    }\n",
       "</style>\n",
       "<table border=\"1\" class=\"dataframe\">\n",
       "  <thead>\n",
       "    <tr style=\"text-align: right;\">\n",
       "      <th></th>\n",
       "      <th>n_tokens</th>\n",
       "    </tr>\n",
       "    <tr>\n",
       "      <th>episode_season</th>\n",
       "      <th></th>\n",
       "    </tr>\n",
       "  </thead>\n",
       "  <tbody>\n",
       "    <tr>\n",
       "      <th>1</th>\n",
       "      <td>36865</td>\n",
       "    </tr>\n",
       "    <tr>\n",
       "      <th>2</th>\n",
       "      <td>65525</td>\n",
       "    </tr>\n",
       "    <tr>\n",
       "      <th>3</th>\n",
       "      <td>69455</td>\n",
       "    </tr>\n",
       "    <tr>\n",
       "      <th>4</th>\n",
       "      <td>53171</td>\n",
       "    </tr>\n",
       "    <tr>\n",
       "      <th>5</th>\n",
       "      <td>58860</td>\n",
       "    </tr>\n",
       "  </tbody>\n",
       "</table>\n",
       "</div>"
      ],
      "text/plain": [
       "                n_tokens\n",
       "episode_season          \n",
       "1                  36865\n",
       "2                  65525\n",
       "3                  69455\n",
       "4                  53171\n",
       "5                  58860"
      ]
     },
     "execution_count": 49,
     "metadata": {},
     "output_type": "execute_result"
    }
   ],
   "source": [
    "X_subset_tokens_season = X_subset_text.groupby(['episode_season'])['n_tokens'].sum().to_frame()\n",
    "\n",
    "X_subset_tokens_season.head()"
   ]
  },
  {
   "cell_type": "markdown",
   "metadata": {},
   "source": [
    "Calculando o número médio de tokens por season"
   ]
  },
  {
   "cell_type": "code",
   "execution_count": 50,
   "metadata": {},
   "outputs": [
    {
     "name": "stdout",
     "output_type": "stream",
     "text": [
      "O número médio de tokens por season é de 56551 tokens\n"
     ]
    }
   ],
   "source": [
    "media_season = X_subset_tokens_season['n_tokens'].mean()\n",
    "\n",
    "print(f'O número médio de tokens por season é de {int(media_season)} tokens')"
   ]
  },
  {
   "cell_type": "markdown",
   "metadata": {},
   "source": [
    "Episódio com maior número de tokens:"
   ]
  },
  {
   "cell_type": "code",
   "execution_count": 51,
   "metadata": {},
   "outputs": [
    {
     "data": {
      "text/html": [
       "<div>\n",
       "<style scoped>\n",
       "    .dataframe tbody tr th:only-of-type {\n",
       "        vertical-align: middle;\n",
       "    }\n",
       "\n",
       "    .dataframe tbody tr th {\n",
       "        vertical-align: top;\n",
       "    }\n",
       "\n",
       "    .dataframe thead th {\n",
       "        text-align: right;\n",
       "    }\n",
       "</style>\n",
       "<table border=\"1\" class=\"dataframe\">\n",
       "  <thead>\n",
       "    <tr style=\"text-align: right;\">\n",
       "      <th></th>\n",
       "      <th></th>\n",
       "      <th>n_tokens</th>\n",
       "    </tr>\n",
       "    <tr>\n",
       "      <th>episode_id</th>\n",
       "      <th>episode_season</th>\n",
       "      <th></th>\n",
       "    </tr>\n",
       "  </thead>\n",
       "  <tbody>\n",
       "    <tr>\n",
       "      <th>49</th>\n",
       "      <th>3</th>\n",
       "      <td>3454</td>\n",
       "    </tr>\n",
       "  </tbody>\n",
       "</table>\n",
       "</div>"
      ],
      "text/plain": [
       "                           n_tokens\n",
       "episode_id episode_season          \n",
       "49         3                   3454"
      ]
     },
     "execution_count": 51,
     "metadata": {},
     "output_type": "execute_result"
    }
   ],
   "source": [
    "X_subset_tokens_ep[X_subset_tokens_ep['n_tokens'] == X_subset_tokens_ep['n_tokens'].max()]"
   ]
  },
  {
   "cell_type": "markdown",
   "metadata": {},
   "source": [
    "Temporada com maior número de tokens:"
   ]
  },
  {
   "cell_type": "code",
   "execution_count": 52,
   "metadata": {},
   "outputs": [
    {
     "data": {
      "text/html": [
       "<div>\n",
       "<style scoped>\n",
       "    .dataframe tbody tr th:only-of-type {\n",
       "        vertical-align: middle;\n",
       "    }\n",
       "\n",
       "    .dataframe tbody tr th {\n",
       "        vertical-align: top;\n",
       "    }\n",
       "\n",
       "    .dataframe thead th {\n",
       "        text-align: right;\n",
       "    }\n",
       "</style>\n",
       "<table border=\"1\" class=\"dataframe\">\n",
       "  <thead>\n",
       "    <tr style=\"text-align: right;\">\n",
       "      <th></th>\n",
       "      <th>n_tokens</th>\n",
       "    </tr>\n",
       "    <tr>\n",
       "      <th>episode_season</th>\n",
       "      <th></th>\n",
       "    </tr>\n",
       "  </thead>\n",
       "  <tbody>\n",
       "    <tr>\n",
       "      <th>7</th>\n",
       "      <td>70418</td>\n",
       "    </tr>\n",
       "  </tbody>\n",
       "</table>\n",
       "</div>"
      ],
      "text/plain": [
       "                n_tokens\n",
       "episode_season          \n",
       "7                  70418"
      ]
     },
     "execution_count": 52,
     "metadata": {},
     "output_type": "execute_result"
    }
   ],
   "source": [
    "X_subset_tokens_season[X_subset_tokens_season['n_tokens'] == X_subset_tokens_season['n_tokens'].max()]"
   ]
  },
  {
   "cell_type": "markdown",
   "metadata": {},
   "source": [
    "Vamos plotar em um gráfico de barras o número de tokens por temporada para saber se a season 7 foi um outlier"
   ]
  },
  {
   "cell_type": "code",
   "execution_count": 63,
   "metadata": {},
   "outputs": [
    {
     "data": {
      "image/png": "[encoded data removed]",
      "text/plain": [
       "<Figure size 640x480 with 1 Axes>"
      ]
     },
     "metadata": {},
     "output_type": "display_data"
    }
   ],
   "source": [
    "fig, ax = plt.subplots()\n",
    "\n",
    "fig = sns.barplot(\n",
    "    data=X_subset_tokens_season,\n",
    "    x='episode_season',\n",
    "    y='n_tokens',\n",
    "    width=0.5\n",
    ")\n",
    "\n",
    "ax.set_xlabel('Temporada',\n",
    "           labelpad=10.0)\n",
    "\n",
    "ax.set_ylabel('Tokens',\n",
    "           labelpad=10.0)\n",
    "\n",
    "ax.set_title('Número de tokens por temporada')\n",
    "\n",
    "plt.show(fig)"
   ]
  },
  {
   "cell_type": "markdown",
   "metadata": {},
   "source": [
    "A season 7 não é um outlier, com as temporadas 3, 5 e 8 apresentando um número parecido de tokens. O gráfico apresenta uma clara tendência de diminuição do número de tokens ao longo das temporadas do show, o que pode ser reflexo de várias coisas: redução do número de episódios por temporada, episódios mais curtos e com menos falas, ou até mesmo deficiência de dados no dataset em relação às temporadas mais recentes"
   ]
  },
  {
   "cell_type": "markdown",
   "metadata": {},
   "source": [
    "Vamos plotar em um gráfico de barras os episódios da 3 temporada, para saber se o episódio com maior número de tokens é um outlier em relação aos demais episódios da mesma temporada"
   ]
  },
  {
   "cell_type": "markdown",
   "metadata": {},
   "source": [
    "Filtrando os episódios para somente aqueles da 3 temporada"
   ]
  },
  {
   "cell_type": "code",
   "execution_count": 66,
   "metadata": {},
   "outputs": [
    {
     "data": {
      "text/html": [
       "<div>\n",
       "<style scoped>\n",
       "    .dataframe tbody tr th:only-of-type {\n",
       "        vertical-align: middle;\n",
       "    }\n",
       "\n",
       "    .dataframe tbody tr th {\n",
       "        vertical-align: top;\n",
       "    }\n",
       "\n",
       "    .dataframe thead th {\n",
       "        text-align: right;\n",
       "    }\n",
       "</style>\n",
       "<table border=\"1\" class=\"dataframe\">\n",
       "  <thead>\n",
       "    <tr style=\"text-align: right;\">\n",
       "      <th></th>\n",
       "      <th></th>\n",
       "      <th>n_tokens</th>\n",
       "    </tr>\n",
       "    <tr>\n",
       "      <th>episode_id</th>\n",
       "      <th>episode_season</th>\n",
       "      <th></th>\n",
       "    </tr>\n",
       "  </thead>\n",
       "  <tbody>\n",
       "    <tr>\n",
       "      <th>36</th>\n",
       "      <th>3</th>\n",
       "      <td>3249</td>\n",
       "    </tr>\n",
       "    <tr>\n",
       "      <th>37</th>\n",
       "      <th>3</th>\n",
       "      <td>2901</td>\n",
       "    </tr>\n",
       "    <tr>\n",
       "      <th>38</th>\n",
       "      <th>3</th>\n",
       "      <td>3090</td>\n",
       "    </tr>\n",
       "    <tr>\n",
       "      <th>39</th>\n",
       "      <th>3</th>\n",
       "      <td>2791</td>\n",
       "    </tr>\n",
       "    <tr>\n",
       "      <th>40</th>\n",
       "      <th>3</th>\n",
       "      <td>3144</td>\n",
       "    </tr>\n",
       "  </tbody>\n",
       "</table>\n",
       "</div>"
      ],
      "text/plain": [
       "                           n_tokens\n",
       "episode_id episode_season          \n",
       "36         3                   3249\n",
       "37         3                   2901\n",
       "38         3                   3090\n",
       "39         3                   2791\n",
       "40         3                   3144"
      ]
     },
     "execution_count": 66,
     "metadata": {},
     "output_type": "execute_result"
    }
   ],
   "source": [
    "X_subset_tokens_ep_season_3 = X_subset_tokens_ep.query('episode_season == 3')\n",
    "\n",
    "X_subset_tokens_ep_season_3.head()"
   ]
  },
  {
   "cell_type": "code",
   "execution_count": 68,
   "metadata": {},
   "outputs": [
    {
     "data": {
      "image/png": "[encoded data removed]",
      "text/plain": [
       "<Figure size 640x480 with 1 Axes>"
      ]
     },
     "metadata": {},
     "output_type": "display_data"
    }
   ],
   "source": [
    "fig, ax = plt.subplots()\n",
    "\n",
    "fig = sns.barplot(\n",
    "    data=X_subset_tokens_ep_season_3,\n",
    "    x='episode_id',\n",
    "    y='n_tokens',\n",
    "    width=0.5\n",
    ")\n",
    "\n",
    "ax.set_xlabel('ID do episódio',\n",
    "           labelpad=10.0)\n",
    "\n",
    "ax.set_ylabel('Tokens',\n",
    "           labelpad=10.0)\n",
    "\n",
    "ax.set_title('Número de tokens por episódio da 3ª temporada')\n",
    "\n",
    "plt.show(fig)"
   ]
  },
  {
   "cell_type": "markdown",
   "metadata": {},
   "source": [
    "Na questão de número de tokens por episódio na 3ª temporada, não parece existir uma tendência ou padrão, os valores flutuam de episódio para episódio. Por exemplo, após o episódio de ID 49, que possui o maior número de tokens, vem o episódio de ID 50, que possui o menor número de tokens na temporada. A variabilidade no número de tokens pode ser devido a diferenças no conteúdo, diálogo ou narrativa usada em cada episódio individual, em vez de uma mudança editorial ou de produção consistente ao longo da temporada."
   ]
  },
  {
   "cell_type": "markdown",
   "metadata": {},
   "source": [
    "Usando Prompt Chaining para análise da base de dados dos Simpsons"
   ]
  },
  {
   "cell_type": "code",
   "execution_count": 70,
   "metadata": {},
   "outputs": [],
   "source": [
    "cols = ['episode_id', 'episode_season','episode_original_air_date', 'episode_imdb_rating', \n",
    "        'episode_imdb_votes', 'episode_us_viewers_in_millions', 'episode_views']\n",
    "episode_stats = data[cols].drop_duplicates()\n",
    "\n",
    "episode_stats.to_csv(os.path.join(DATA_PATH,'series_data.csv'), sep=';', index=None)"
   ]
  },
  {
   "cell_type": "markdown",
   "metadata": {},
   "source": [
    "Prompt_inicial para o LLM criar os tipos de análises"
   ]
  },
  {
   "cell_type": "code",
   "execution_count": 75,
   "metadata": {},
   "outputs": [],
   "source": [
    "prompt_inicial = '''\n",
    "You are a data scientist working for the entertainment network FOX. Your task is to analyze patterns and trends in the show \"The Simpsons\".\n",
    "Specifically, you are to analyze the relationships between ratings, which are in the following columns of the csv file containing the show's \n",
    "data: ('episode_imdb_rating', 'episode_imdb_votes'), and viewership, which are in the following columns of the csv file: ('episode_us_viewers_in_millions', 'episode_views').\n",
    "Consider that the delimiter of the csv file is ';' and the information that each column has is: \n",
    "- episode_id: Unique identifier of the episode \n",
    "- episode_season: Season number \n",
    "- episode_original_air_date: Date the episode was originally aired \n",
    "- episode_imdb_rating: Episode with IMDB rating \n",
    "- episode_imdb_votes: Episode with number of IMDB votes \n",
    "- episode_us_viewers_in_millions: Number of viewers (in millions) \n",
    "- episode_views: Total number of times the episode was viewed \n",
    "Make a list of 5 types of analysis that can be implemented with the available data, in JSON format, following the example below: \n",
    "\n",
    "### EXAMPLE\n",
    " \n",
    "{[ {'Name':'Analysis name', 'Objective': 'What we need to analyze', 'Method': 'How we will analyze' } ] }\n",
    "'''"
   ]
  },
  {
   "cell_type": "code",
   "execution_count": null,
   "metadata": {},
   "outputs": [
    {
     "data": {
      "text/plain": [
       "[{'Name': 'Correlation between IMDB Rating and Viewership',\n",
       "  'Objective': \"Determine if there's a relationship between IMDB rating and the number of US viewers or total views.\",\n",
       "  'Method': \"Calculate the Pearson correlation coefficient between 'episode_imdb_rating' and both 'episode_us_viewers_in_millions' and 'episode_views'.  Visualize the relationship using scatter plots.\"},\n",
       " {'Name': 'Impact of Season on Ratings and Viewership',\n",
       "  'Objective': 'Analyze how ratings and viewership change across different seasons of the show.',\n",
       "  'Method': \"Group data by 'episode_season' and calculate the average 'episode_imdb_rating', 'episode_us_viewers_in_millions', and 'episode_views' for each season. Visualize the trends using line graphs.\"},\n",
       " {'Name': 'Relationship between IMDB Votes and Ratings',\n",
       "  'Objective': \"Investigate if the number of IMDB votes influences the episode's rating.\",\n",
       "  'Method': \"Create a scatter plot of 'episode_imdb_votes' vs 'episode_imdb_rating'. Calculate the correlation coefficient to quantify the relationship.  Consider potential outliers.\"},\n",
       " {'Name': 'Viewership Trends Over Time',\n",
       "  'Objective': 'Analyze how viewership (both US viewers and total views) has changed over the years.',\n",
       "  'Method': \"Convert 'episode_original_air_date' to a datetime object. Group the data by year and calculate the average viewership metrics. Visualize the trend using a line graph.  Consider potential confounding factors like changes in television viewing habits.\"},\n",
       " {'Name': 'Predictive Modeling of Viewership',\n",
       "  'Objective': 'Build a model to predict viewership based on IMDB rating and season.',\n",
       "  'Method': \"Use regression techniques (e.g., linear regression, multiple linear regression) to predict 'episode_us_viewers_in_millions' and 'episode_views' using 'episode_imdb_rating' and 'episode_season' as predictor variables. Evaluate model performance using appropriate metrics (e.g., R-squared, RMSE).\"}]"
      ]
     },
     "execution_count": 83,
     "metadata": {},
     "output_type": "execute_result"
    }
   ],
   "source": [
    "model = genai.GenerativeModel(\"gemini-1.5-flash\")\n",
    "response = model.generate_content(prompt_inicial)\n",
    "analysis = json.loads(response.text.replace(\"```json\\n\",'').replace(\"\\n```\",''))\n",
    "analysis"
   ]
  },
  {
   "cell_type": "code",
   "execution_count": 87,
   "metadata": {},
   "outputs": [],
   "source": [
    "prompt_analises = f'''\n",
    "You are a data scientist working for the entertainment network FOX. Your task is to analyze patterns and trends in the show \"The Simpsons\".\n",
    "Specifically, you are to analyze the relationships between ratings, which are in the following columns of the csv file containing the show's \n",
    "data: ('episode_imdb_rating', 'episode_imdb_votes'), and viewership, which are in the following columns of the csv file: ('episode_us_viewers_in_millions', 'episode_views').\n",
    "Consider that the delimiter of the csv file is ';' and the information that each column has is: \n",
    "- episode_id: Unique identifier of the episode \n",
    "- episode_season: Season number \n",
    "- episode_original_air_date: Date the episode was originally aired \n",
    "- episode_imdb_rating: Episode with IMDB rating \n",
    "- episode_imdb_votes: Episode with number of IMDB votes \n",
    "- episode_us_viewers_in_millions: Number of viewers (in millions) \n",
    "- episode_views: Total number of times the episode was viewed\n",
    "The path to the csv file is stated below:\n",
    "\n",
    "## PATH\n",
    "DATA_PATH = os.path.abspath(os.path.join('..', 'data'))\n",
    "os.path.join(DATA_PATH,'series_data.csv')\n",
    "\n",
    "Implement the analysis described below in python.\n",
    "Output only the code, no need for explanations.\n",
    "## ANALYSIS\n",
    "{analysis[0]}\n",
    "'''"
   ]
  },
  {
   "cell_type": "code",
   "execution_count": 88,
   "metadata": {},
   "outputs": [
    {
     "name": "stdout",
     "output_type": "stream",
     "text": [
      "```python\n",
      "import pandas as pd\n",
      "import os\n",
      "import matplotlib.pyplot as plt\n",
      "import seaborn as sns\n",
      "from scipy.stats import pearsonr\n",
      "\n",
      "DATA_PATH = os.path.abspath(os.path.join('..', 'data'))\n",
      "DATA_FILE = os.path.join(DATA_PATH,'series_data.csv')\n",
      "\n",
      "df = pd.read_csv(DATA_FILE, delimiter=';')\n",
      "\n",
      "#correlation between IMDB rating and US viewers\n",
      "correlation, p_value = pearsonr(df['episode_imdb_rating'], df['episode_us_viewers_in_millions'])\n",
      "print(f\"Correlation between IMDB rating and US viewers: {correlation:.2f}, p-value: {p_value:.3f}\")\n",
      "plt.figure(figsize=(8, 6))\n",
      "sns.scatterplot(x='episode_imdb_rating', y='episode_us_viewers_in_millions', data=df)\n",
      "plt.title('IMDB Rating vs. US Viewers')\n",
      "plt.show()\n",
      "\n",
      "#correlation between IMDB rating and total views\n",
      "correlation, p_value = pearsonr(df['episode_imdb_rating'], df['episode_views'])\n",
      "print(f\"Correlation between IMDB rating and total views: {correlation:.2f}, p-value: {p_value:.3f}\")\n",
      "plt.figure(figsize=(8, 6))\n",
      "sns.scatterplot(x='episode_imdb_rating', y='episode_views', data=df)\n",
      "plt.title('IMDB Rating vs. Total Views')\n",
      "plt.show()\n",
      "\n",
      "```\n",
      "\n"
     ]
    }
   ],
   "source": [
    "model = genai.GenerativeModel(\"gemini-1.5-flash\")\n",
    "response = model.generate_content(prompt_analises)\n",
    "print(response.text)"
   ]
  },
  {
   "cell_type": "markdown",
   "metadata": {},
   "source": [
    "Análise 1"
   ]
  },
  {
   "cell_type": "code",
   "execution_count": 90,
   "metadata": {},
   "outputs": [
    {
     "name": "stdout",
     "output_type": "stream",
     "text": [
      "Correlation between IMDB rating and US viewers: nan, p-value: nan\n"
     ]
    },
    {
     "data": {
      "image/png": "[encoded data removed]",
      "text/plain": [
       "<Figure size 800x600 with 1 Axes>"
      ]
     },
     "metadata": {},
     "output_type": "display_data"
    },
    {
     "name": "stdout",
     "output_type": "stream",
     "text": [
      "Correlation between IMDB rating and total views: 0.59, p-value: 0.000\n"
     ]
    },
    {
     "data": {
      "image/png": "[encoded data removed]",
      "text/plain": [
       "<Figure size 800x600 with 1 Axes>"
      ]
     },
     "metadata": {},
     "output_type": "display_data"
    }
   ],
   "source": [
    "analysis_code = response.text.replace(\"```python\\n\",'').replace(\"\\n```\",'')\n",
    "exec(analysis_code)"
   ]
  },
  {
   "cell_type": "code",
   "execution_count": 92,
   "metadata": {},
   "outputs": [],
   "source": [
    "prompt_analises = f'''\n",
    "You are a data scientist working for the entertainment network FOX. Your task is to analyze patterns and trends in the show \"The Simpsons\".\n",
    "Specifically, you are to analyze the relationships between ratings, which are in the following columns of the csv file containing the show's \n",
    "data: ('episode_imdb_rating', 'episode_imdb_votes'), and viewership, which are in the following columns of the csv file: ('episode_us_viewers_in_millions', 'episode_views').\n",
    "Consider that the delimiter of the csv file is ';' and the information that each column has is: \n",
    "- episode_id: Unique identifier of the episode \n",
    "- episode_season: Season number \n",
    "- episode_original_air_date: Date the episode was originally aired \n",
    "- episode_imdb_rating: Episode with IMDB rating \n",
    "- episode_imdb_votes: Episode with number of IMDB votes \n",
    "- episode_us_viewers_in_millions: Number of viewers (in millions) \n",
    "- episode_views: Total number of times the episode was viewed\n",
    "The path to the csv file is stated below:\n",
    "\n",
    "## PATH\n",
    "DATA_PATH = os.path.abspath(os.path.join('..', 'data'))\n",
    "os.path.join(DATA_PATH,'series_data.csv')\n",
    "\n",
    "Implement the analysis described below in python.\n",
    "Output only the code, no need for explanations.\n",
    "## ANALYSIS\n",
    "{analysis[1]}\n",
    "'''"
   ]
  },
  {
   "cell_type": "markdown",
   "metadata": {},
   "source": [
    "Análise 2"
   ]
  },
  {
   "cell_type": "code",
   "execution_count": 93,
   "metadata": {},
   "outputs": [
    {
     "data": {
      "image/png": "[encoded data removed]",
      "text/plain": [
       "<Figure size 1500x500 with 3 Axes>"
      ]
     },
     "metadata": {},
     "output_type": "display_data"
    }
   ],
   "source": [
    "model = genai.GenerativeModel(\"gemini-1.5-flash\")\n",
    "response = model.generate_content(prompt_analises)\n",
    "analysis_code = response.text.replace(\"```python\\n\",'').replace(\"\\n```\",'')\n",
    "exec(analysis_code)"
   ]
  },
  {
   "cell_type": "code",
   "execution_count": 94,
   "metadata": {},
   "outputs": [],
   "source": [
    "prompt_analises = f'''\n",
    "You are a data scientist working for the entertainment network FOX. Your task is to analyze patterns and trends in the show \"The Simpsons\".\n",
    "Specifically, you are to analyze the relationships between ratings, which are in the following columns of the csv file containing the show's \n",
    "data: ('episode_imdb_rating', 'episode_imdb_votes'), and viewership, which are in the following columns of the csv file: ('episode_us_viewers_in_millions', 'episode_views').\n",
    "Consider that the delimiter of the csv file is ';' and the information that each column has is: \n",
    "- episode_id: Unique identifier of the episode \n",
    "- episode_season: Season number \n",
    "- episode_original_air_date: Date the episode was originally aired \n",
    "- episode_imdb_rating: Episode with IMDB rating \n",
    "- episode_imdb_votes: Episode with number of IMDB votes \n",
    "- episode_us_viewers_in_millions: Number of viewers (in millions) \n",
    "- episode_views: Total number of times the episode was viewed\n",
    "The path to the csv file is stated below:\n",
    "\n",
    "## PATH\n",
    "DATA_PATH = os.path.abspath(os.path.join('..', 'data'))\n",
    "os.path.join(DATA_PATH,'series_data.csv')\n",
    "\n",
    "Implement the analysis described below in python.\n",
    "Output only the code, no need for explanations.\n",
    "## ANALYSIS\n",
    "{analysis[2]}\n",
    "'''"
   ]
  },
  {
   "cell_type": "markdown",
   "metadata": {},
   "source": [
    "Análise 3"
   ]
  },
  {
   "cell_type": "code",
   "execution_count": 95,
   "metadata": {},
   "outputs": [
    {
     "data": {
      "image/png": "[encoded data removed]",
      "text/plain": [
       "<Figure size 1000x600 with 1 Axes>"
      ]
     },
     "metadata": {},
     "output_type": "display_data"
    },
    {
     "name": "stdout",
     "output_type": "stream",
     "text": [
      "Correlation coefficient: 0.7805560770639186\n"
     ]
    }
   ],
   "source": [
    "model = genai.GenerativeModel(\"gemini-1.5-flash\")\n",
    "response = model.generate_content(prompt_analises)\n",
    "analysis_code = response.text.replace(\"```python\\n\",'').replace(\"\\n```\",'')\n",
    "exec(analysis_code)"
   ]
  },
  {
   "cell_type": "code",
   "execution_count": 96,
   "metadata": {},
   "outputs": [],
   "source": [
    "prompt_analises = f'''\n",
    "You are a data scientist working for the entertainment network FOX. Your task is to analyze patterns and trends in the show \"The Simpsons\".\n",
    "Specifically, you are to analyze the relationships between ratings, which are in the following columns of the csv file containing the show's \n",
    "data: ('episode_imdb_rating', 'episode_imdb_votes'), and viewership, which are in the following columns of the csv file: ('episode_us_viewers_in_millions', 'episode_views').\n",
    "Consider that the delimiter of the csv file is ';' and the information that each column has is: \n",
    "- episode_id: Unique identifier of the episode \n",
    "- episode_season: Season number \n",
    "- episode_original_air_date: Date the episode was originally aired \n",
    "- episode_imdb_rating: Episode with IMDB rating \n",
    "- episode_imdb_votes: Episode with number of IMDB votes \n",
    "- episode_us_viewers_in_millions: Number of viewers (in millions) \n",
    "- episode_views: Total number of times the episode was viewed\n",
    "The path to the csv file is stated below:\n",
    "\n",
    "## PATH\n",
    "DATA_PATH = os.path.abspath(os.path.join('..', 'data'))\n",
    "os.path.join(DATA_PATH,'series_data.csv')\n",
    "\n",
    "Implement the analysis described below in python.\n",
    "Output only the code, no need for explanations.\n",
    "## ANALYSIS\n",
    "{analysis[3]}\n",
    "'''"
   ]
  },
  {
   "cell_type": "markdown",
   "metadata": {},
   "source": [
    "Análise 4"
   ]
  },
  {
   "cell_type": "code",
   "execution_count": 97,
   "metadata": {},
   "outputs": [
    {
     "data": {
      "image/png": "[encoded data removed]",
      "text/plain": [
       "<Figure size 1200x600 with 1 Axes>"
      ]
     },
     "metadata": {},
     "output_type": "display_data"
    }
   ],
   "source": [
    "model = genai.GenerativeModel(\"gemini-1.5-flash\")\n",
    "response = model.generate_content(prompt_analises)\n",
    "analysis_code = response.text.replace(\"```python\\n\",'').replace(\"\\n```\",'')\n",
    "exec(analysis_code)"
   ]
  },
  {
   "cell_type": "code",
   "execution_count": 105,
   "metadata": {},
   "outputs": [],
   "source": [
    "prompt_analises = f'''\n",
    "You are a data scientist working for the entertainment network FOX. Your task is to analyze patterns and trends in the show \"The Simpsons\".\n",
    "Specifically, you are to analyze the relationships between ratings, which are in the following columns of the csv file containing the show's \n",
    "data: ('episode_imdb_rating', 'episode_imdb_votes'), and viewership, which are in the following columns of the csv file: ('episode_us_viewers_in_millions', 'episode_views').\n",
    "Consider that the delimiter of the csv file is ';' and the information that each column has is: \n",
    "- episode_id: Unique identifier of the episode \n",
    "- episode_season: Season number \n",
    "- episode_original_air_date: Date the episode was originally aired \n",
    "- episode_imdb_rating: Episode with IMDB rating \n",
    "- episode_imdb_votes: Episode with number of IMDB votes \n",
    "- episode_us_viewers_in_millions: Number of viewers (in millions) \n",
    "- episode_views: Total number of times the episode was viewed\n",
    "The path to the csv file is stated below:\n",
    "\n",
    "## PATH\n",
    "DATA_PATH = os.path.abspath(os.path.join('..', 'data'))\n",
    "os.path.join(DATA_PATH,'series_data.csv')\n",
    "\n",
    "Implement the analysis described below in python.\n",
    "Output only the code, no need for explanations.\n",
    "## ANALYSIS\n",
    "{analysis[4]}\n",
    "'''"
   ]
  },
  {
   "cell_type": "markdown",
   "metadata": {},
   "source": [
    "Análise 5"
   ]
  },
  {
   "cell_type": "code",
   "execution_count": 106,
   "metadata": {},
   "outputs": [
    {
     "name": "stdout",
     "output_type": "stream",
     "text": [
      "Viewers in Millions - RMSE: 3.9132884369943954\n",
      "Viewers in Millions - R-squared: 0.6769715529716784\n",
      "Episode Views - RMSE: 15571.302462502888\n",
      "Episode Views - R-squared: 0.3387152466252764\n"
     ]
    }
   ],
   "source": [
    "model = genai.GenerativeModel(\"gemini-1.5-flash\")\n",
    "response = model.generate_content(prompt_analises)\n",
    "analysis_code = response.text.replace(\"```python\\n\",'').replace(\"\\n```\",'')\n",
    "exec(analysis_code)"
   ]
  },
  {
   "cell_type": "markdown",
   "metadata": {},
   "source": [
    "O LLM gerou análises relevantes para a base de dados dos Simpsons. O LLM gerou sem problemas os códigos para as análises 1, 2 e 3. Nas análises 4 e 5, porém, o resultado não foi tão satisfatório. Por exemplo, na análise \"Analyze how viewership (both US viewers and total views) has changed over the years\", a linha representando US Viewers não reflete os dados. Isso pode estar relacionado ao fato de, no arquivo csv, o número de visualizações por milhões ser representado por números decimais (como 17.7), e no código gerado pelo LLM, esses valores não foram multiplicados por 1.000.000. Na análise 5, \"Build a model to predict viewership based on IMDB rating and season\", o modelo gerado pelo LLM para predizer o número de espectadores nos Estados Unidos(episode_us_viewers_in_millions) parece ter um ajuste razoavelmente bom, explicando cerca de 67,7% da variância. Já para o número total de visualizações por episódio(episode_views) o ajuste do modelo é mais fraco, explicando apenas cerca de 33,9% da variância."
   ]
  },
  {
   "cell_type": "markdown",
   "metadata": {},
   "source": [
    "## Questão 6 - Classificação de Sentimento com Few-Shot Learning"
   ]
  },
  {
   "cell_type": "markdown",
   "metadata": {},
   "source": [
    "Filtrando as falas para somente aquelas do episódio de id 92"
   ]
  },
  {
   "cell_type": "code",
   "execution_count": 23,
   "metadata": {},
   "outputs": [
    {
     "data": {
      "text/html": [
       "<div>\n",
       "<style scoped>\n",
       "    .dataframe tbody tr th:only-of-type {\n",
       "        vertical-align: middle;\n",
       "    }\n",
       "\n",
       "    .dataframe tbody tr th {\n",
       "        vertical-align: top;\n",
       "    }\n",
       "\n",
       "    .dataframe thead th {\n",
       "        text-align: right;\n",
       "    }\n",
       "</style>\n",
       "<table border=\"1\" class=\"dataframe\">\n",
       "  <thead>\n",
       "    <tr style=\"text-align: right;\">\n",
       "      <th></th>\n",
       "      <th>episode_id</th>\n",
       "      <th>episode_season</th>\n",
       "      <th>normalized_text</th>\n",
       "    </tr>\n",
       "  </thead>\n",
       "  <tbody>\n",
       "    <tr>\n",
       "      <th>17424</th>\n",
       "      <td>92</td>\n",
       "      <td>5</td>\n",
       "      <td>cant talk robbed go hell</td>\n",
       "    </tr>\n",
       "    <tr>\n",
       "      <th>17439</th>\n",
       "      <td>92</td>\n",
       "      <td>5</td>\n",
       "      <td>dad weve been robbed</td>\n",
       "    </tr>\n",
       "    <tr>\n",
       "      <th>17440</th>\n",
       "      <td>92</td>\n",
       "      <td>5</td>\n",
       "      <td>wake up dad wake up there was a burglar and he...</td>\n",
       "    </tr>\n",
       "    <tr>\n",
       "      <th>17441</th>\n",
       "      <td>92</td>\n",
       "      <td>5</td>\n",
       "      <td>woo hoo</td>\n",
       "    </tr>\n",
       "    <tr>\n",
       "      <th>17442</th>\n",
       "      <td>92</td>\n",
       "      <td>5</td>\n",
       "      <td>and our portable tv</td>\n",
       "    </tr>\n",
       "    <tr>\n",
       "      <th>...</th>\n",
       "      <td>...</td>\n",
       "      <td>...</td>\n",
       "      <td>...</td>\n",
       "    </tr>\n",
       "    <tr>\n",
       "      <th>17709</th>\n",
       "      <td>92</td>\n",
       "      <td>5</td>\n",
       "      <td>hmmm i guess were not gonna find anything</td>\n",
       "    </tr>\n",
       "    <tr>\n",
       "      <th>17710</th>\n",
       "      <td>92</td>\n",
       "      <td>5</td>\n",
       "      <td>uh howre we gonna get outta here</td>\n",
       "    </tr>\n",
       "    <tr>\n",
       "      <th>17711</th>\n",
       "      <td>92</td>\n",
       "      <td>5</td>\n",
       "      <td>well dig our way out</td>\n",
       "    </tr>\n",
       "    <tr>\n",
       "      <th>17712</th>\n",
       "      <td>92</td>\n",
       "      <td>5</td>\n",
       "      <td>no no dig up stupid</td>\n",
       "    </tr>\n",
       "    <tr>\n",
       "      <th>148557</th>\n",
       "      <td>92</td>\n",
       "      <td>5</td>\n",
       "      <td>mental note the girl knows too much</td>\n",
       "    </tr>\n",
       "  </tbody>\n",
       "</table>\n",
       "<p>244 rows × 3 columns</p>\n",
       "</div>"
      ],
      "text/plain": [
       "        episode_id  episode_season  \\\n",
       "17424           92               5   \n",
       "17439           92               5   \n",
       "17440           92               5   \n",
       "17441           92               5   \n",
       "17442           92               5   \n",
       "...            ...             ...   \n",
       "17709           92               5   \n",
       "17710           92               5   \n",
       "17711           92               5   \n",
       "17712           92               5   \n",
       "148557          92               5   \n",
       "\n",
       "                                          normalized_text  \n",
       "17424                            cant talk robbed go hell  \n",
       "17439                                dad weve been robbed  \n",
       "17440   wake up dad wake up there was a burglar and he...  \n",
       "17441                                             woo hoo  \n",
       "17442                                 and our portable tv  \n",
       "...                                                   ...  \n",
       "17709           hmmm i guess were not gonna find anything  \n",
       "17710                    uh howre we gonna get outta here  \n",
       "17711                                well dig our way out  \n",
       "17712                                 no no dig up stupid  \n",
       "148557                mental note the girl knows too much  \n",
       "\n",
       "[244 rows x 3 columns]"
      ]
     },
     "execution_count": 23,
     "metadata": {},
     "output_type": "execute_result"
    }
   ],
   "source": [
    "X_subset_text_id92 = X_subset_text.query('episode_id == 92')\n",
    "X_subset_text_id92"
   ]
  },
  {
   "cell_type": "markdown",
   "metadata": {},
   "source": [
    "Pegando todas as falas do episódio"
   ]
  },
  {
   "cell_type": "code",
   "execution_count": 25,
   "metadata": {},
   "outputs": [
    {
     "data": {
      "text/plain": [
       "['cant talk robbed go hell',\n",
       " 'dad weve been robbed',\n",
       " 'wake up dad wake up there was a burglar and he took my saxophone',\n",
       " 'woo hoo',\n",
       " 'and our portable tv',\n",
       " 'and my necklace',\n",
       " 'eh thats no big loss',\n",
       " 'homer that necklace was a priceless bouvier family heirloom',\n",
       " 'oh youve probably got a whole drawer full of em',\n",
       " 'well yes i do but theyre all heirlooms too',\n",
       " 'the burglar even took my stamp collection',\n",
       " 'you had a stamp collection',\n",
       " 'stamp collection haw haw',\n",
       " 'barts pain is funny but mine isnt that saxophone was my one creative outlet it was the only way i could truly express myself',\n",
       " 'shhh quiet lisa',\n",
       " 'hey the burglar left his calling card',\n",
       " 'you have just been robbed by the springfield cat burglar cute',\n",
       " 'hidilly ho neighboreenos',\n",
       " 'you folks got robbed too the burglar took my shroud of turin beach towels',\n",
       " 'wow its a crime wave',\n",
       " 'good lord my stormin norman commemorative plates stolen again',\n",
       " 'hey i thought i had more stuff than this',\n",
       " 'we are insured arent we mom',\n",
       " 'homer tell your child what you bought when i sent you to town to get some insurance',\n",
       " 'curse you magic beans',\n",
       " 'oh stop blaming the beans',\n",
       " 'hello police are you sitting down good i wish to report a robbery',\n",
       " 'a robbery right thanks for the report',\n",
       " 'another one lou 723 evergreen terrace',\n",
       " 'well there doesnt seem to be any pattern yet but if i take this one and move it here and move these over here hello it almost looks like an arrow',\n",
       " 'hey look chief its pointing right at this police station',\n",
       " 'lets get outta here',\n",
       " 'when cat burglaries start can mass murders be far behind this reporter isnt saying that the burglar is an inhuman monster like the wolfman but he very well could be',\n",
       " 'so professor would you say its time for everyone to panic',\n",
       " 'yes i would kent',\n",
       " 'ladies and gentlemen ladies and gentlemen please we have a major break in the case we recovered the burglars handkerchief from one of the crime scenes now one sniff of this baby and our tracking dog will be hot on his trail gosh look at me im sweating like a pig here',\n",
       " 'ahhh aw man thats better',\n",
       " 'alright get the scent boy come on get the scent now kill go on',\n",
       " 'ow my jugular any questions',\n",
       " 'let me check my reason list',\n",
       " 'yep its on here',\n",
       " 'well as you can see when the burglar trips the alarm the house raises from its foundations and runs down the street and around a corner to safety',\n",
       " 'well the the real humans wont uh wont burn quite so fast there',\n",
       " 'cool high-tech security system',\n",
       " 'alright free laserium all the colors of the bow man',\n",
       " 'my cataracts are gone i can see again all the beauty of nat',\n",
       " 'im blind oh well easy come easy go',\n",
       " 'its the cat burglar please dont kill me',\n",
       " 'abe can i use your ointment',\n",
       " 'oh its you molloy alright but this time clean off the applicator',\n",
       " 'thank you for coming ill see you in hell',\n",
       " 'alright these are our new family security rules be home before dark and make sure youre not followed lock all doors and windows',\n",
       " 'and dont take candy from strangers',\n",
       " 'marge theyre only human',\n",
       " 'whats the point of all these precautions ive already lost the only thing that matters to me',\n",
       " 'oh lisa stop pining for your saxophone i got you another instrument',\n",
       " 'what this jug',\n",
       " 'lisa never ever stop in the middle of a hoe-down',\n",
       " 'aw honey i didnt realize how much that horn meant to you dont worry daddys gonna get it back i dont know how but ill figure out something',\n",
       " 'thank you',\n",
       " 'you know lisa music helps daddy think',\n",
       " 'hey youre that drunken posse wow can i join you',\n",
       " 'i dunno can you swing a sack of door knobs',\n",
       " 'can i',\n",
       " 'welcome neighbors since the police cant seem to get off their dufferoonies to do something about this burglarino i think its time we start our own neighborhood watch arooni',\n",
       " 'now who should lead the group',\n",
       " 'you',\n",
       " 'yeah flanders flanders flanders',\n",
       " 'i dont really have very much experience but ill be---',\n",
       " 'someone else',\n",
       " 'yeah someone else someone else someone else',\n",
       " 'im someone else',\n",
       " 'hes right',\n",
       " 'we dont need a thinker we need a doer someone wholl act without considering the consequences',\n",
       " 'homer homer homer',\n",
       " 'im with you homer',\n",
       " 'i be with ya too matey',\n",
       " 'im with you homer',\n",
       " 'youre the man homer',\n",
       " 'youre so good',\n",
       " 'youre the man man',\n",
       " 'ill join im filled with piss and vinegar at first i was just filled with vinegar',\n",
       " 'sorry dad youre too old',\n",
       " 'too old why that just means i have experience who chased the irish out of springfield village in ought four me thats who',\n",
       " 'and a fine job ye did too',\n",
       " 'aw dad youve done a lot of great things but youre a very old man now and old people are useless arent they arent they huh yes they are yes they are',\n",
       " 'stop it its a form of abuse',\n",
       " 'i dont think the guns are a good idea homer',\n",
       " 'marge were responsible adults and',\n",
       " 'oops',\n",
       " 'and if a group of responsible adults cant handle firearms in a responsible way',\n",
       " 'sorry',\n",
       " 'uh-oh',\n",
       " 'me again',\n",
       " 'sorry',\n",
       " 'okay weve got the secret vigilante handshake now we need code names ill be cueball skinner can be eightball barney will be twelveball and moe you can be cueball',\n",
       " 'youre an idiot',\n",
       " 'so wedding huh',\n",
       " 'no were forming a vigilante group',\n",
       " 'come with me',\n",
       " 'see its a miniature version of the a-bomb the government built it in the fifties to drop on beatniks',\n",
       " 'radiant cool crazy nightmare zen new jersey nowhere',\n",
       " 'put this in your pipe and smoke it',\n",
       " 'how now brown bureaucrats',\n",
       " 'woo hoo woo hoo hoo hoo',\n",
       " 'woo hoo hoo take that maynard g krebs',\n",
       " 'hey see this sign',\n",
       " 'sorry',\n",
       " 'okay men its time to clean up this town',\n",
       " 'meaning what exactly',\n",
       " 'you know push people around make ourselves feel big',\n",
       " 'bart give me that megaphone of yours',\n",
       " 'its not just a megaphone dad its a rapmaster 2000',\n",
       " 'never mind the commercials just give it to me ive got to whip this neighborhood into shape',\n",
       " 'move along there',\n",
       " 'its hammer',\n",
       " 'return to your homes and places of businesses',\n",
       " 'hey you whered you get that saxophone',\n",
       " 'sears',\n",
       " 'get him',\n",
       " 'no burning leaves without a permit',\n",
       " 'i got one',\n",
       " 'too late',\n",
       " 'you better have a good reason for doing that boy',\n",
       " 'it makes me feel like a big man',\n",
       " 'youre in heres the sack',\n",
       " 'but you gotta supply your own knobs',\n",
       " 'so i said to him look buddy your car was upside down when we got here and as for your grandma she shouldnt have mouthed off like that',\n",
       " 'dad dont you see youre abusing your power like all vigilantes i mean if youre the police who will police the police',\n",
       " 'i unno coast guard',\n",
       " 'homer wasnt the whole point to catch the cat burglar',\n",
       " 'and i still dont have my saxophone',\n",
       " 'lisa the mob is working on getting your saxophone back but weve also expanded into other important areas',\n",
       " 'literacy programs preserving our beloved covered bridges world domination',\n",
       " 'world domination',\n",
       " 'oh that might be a typo',\n",
       " 'mr simpson how do you respond to the charge that petty vandalism such as graffiti is down 80 percent while heavy sack beatings are up a shocking 900 percent',\n",
       " 'aw people can come up with statistics to prove anything kent forty percent of all people know that',\n",
       " 'i see well what do you say to the accusation that your group has been causing more crimes than its been preventing',\n",
       " 'oh kent id be lying if i said my men werent committing crimes',\n",
       " 'touché',\n",
       " 'well it looks like we have our first caller and i mean ever because this is not a call-in show hello youre on the air',\n",
       " 'hello kent hello homer my arch nemesis',\n",
       " 'yello',\n",
       " 'uh you do realize who this is',\n",
       " 'uh marge',\n",
       " 'no homer im not your wife although i do enjoy her pearls as a matter of fact im holding them right now listen',\n",
       " 'why you monster and you have my daughters saxophone too',\n",
       " 'homer thats our stage manager',\n",
       " 'oh sorry im a little nervous',\n",
       " 'it may interest you to know that for my next crime ill be pinching the pride and joy of the springfield museum the worlds largest cubic zirconia',\n",
       " 'listen mr cat burglar i vow to go without sleep and guard the springfield museum day and night for as long as it takes from now on unless you want to taunt me more by giving me an approximate time',\n",
       " 'well be right back',\n",
       " 'i get to say that',\n",
       " 'son we wanna help you catch that plug-ugly-yegg',\n",
       " 'dad the best way for you to help is to set a good example just stand around and dont steal anything',\n",
       " 'hey',\n",
       " 'were on our break',\n",
       " 'any sign of the burglar yet',\n",
       " 'hell show',\n",
       " 'hows that',\n",
       " 'its his job',\n",
       " 'hows that',\n",
       " 'hes a burglar',\n",
       " 'well mr cat burglar youd like to get in here wouldnt you theres just one little problem thirty-six years ago some lady gave birth to a man named homer j sim -- oh my god underage kids drinking beer without a permit',\n",
       " 'chug chug chug chug chug',\n",
       " 'asleep at the switch i wasnt asleep i was drunk',\n",
       " 'i believe you dad',\n",
       " 'well no matter what the paper says i still have a job to do',\n",
       " 'go home simpson',\n",
       " 'you let me down man now i dont believe in nothing no more im going to law school',\n",
       " 'nooooo',\n",
       " 'dad maybe this will cheer you up',\n",
       " 'oh this doesnt work any more',\n",
       " 'i didnt say stop',\n",
       " 'oh my i had no idea how much this town loved that zirconia',\n",
       " 'let me through coming through',\n",
       " 'oh grampa they pelted you too',\n",
       " 'no actually i fell down at the big boy',\n",
       " 'son ive come to help you i know who the cat burglar is',\n",
       " 'what who huh what',\n",
       " 'well well well before i was too old and no one wanted my help suddenly look who comes to old grampa for--wait wherere you going',\n",
       " 'come back ill tell you',\n",
       " 'he was right under my nose the whole time he lives in my retirement home his name is molloy',\n",
       " 'wow howd you track him down grampa',\n",
       " 'good question',\n",
       " 'on one of my frequent trips to the ground i noticed molloy wore sneakers',\n",
       " 'for sneaking my next clue came just yesterday at the museum we felt slighted by your age-bashing and started home',\n",
       " 'molloy said ill catch up with you',\n",
       " 'i couldnt quite put my finger on it there was something strange about the way he walked much more vertical than usual and finally molloy unlike most retired people has the worlds largest cubic zirconia on his coffee table',\n",
       " 'aw dad i could kiss you',\n",
       " 'well kiss me right here its the only part that still has feeling',\n",
       " 'no wait i know where the burglar is',\n",
       " 'to the retirement home',\n",
       " 'hooray',\n",
       " 'and there she is the worlds largest cubic zirconia',\n",
       " 'what an eyesore',\n",
       " 'so mr molloy it seems that the cat has been caught by the very person that was trying to catch him',\n",
       " 'how ironic',\n",
       " 'homer old chum well done if anyone was going to catch me im glad it was you',\n",
       " 'actually it wasnt me it was my dad grampa',\n",
       " 'thanks son so you see old people arent so useless after all molloys old and he outsmarted the lot of ya and im even older and i outsmarted him',\n",
       " 'shut up',\n",
       " 'ive had my moment',\n",
       " 'and of course im happy to return all of your treasured possessions',\n",
       " 'selma my dear your lock of macgyvers hair',\n",
       " 'thank you ill add it to the ball',\n",
       " 'and little lisa heres your saxophone',\n",
       " 'thank you and thank you dad you got it back just like you said you would',\n",
       " 'i sincerely regret any inconvenience i may have caused and although i have stolen your material goods let me assure you that your dear town has stolen my heart',\n",
       " 'awwwww',\n",
       " 'oh hes so charming',\n",
       " 'lets let him go',\n",
       " 'yeah',\n",
       " 'oh sorry folks gee i really hate to spoil this little love-in but mr molloy broke the law and when you break the law you gotta go to jail',\n",
       " 'uh that reminds me uh heres your monthly kickback',\n",
       " 'you just you couldnt have picked a worse time',\n",
       " 'i caught the cat burglar i caught the cat burglar that means you you are the cat burglar',\n",
       " 'i suppose youre wondering where i hid all the millions of dollars i stole over the years',\n",
       " 'shut up',\n",
       " 'oh wait a minute maybe we should uh hear him out whered you hide the loot molloy',\n",
       " 'its buried right here in springfield under a big t',\n",
       " 'no kidding',\n",
       " 'big t huh',\n",
       " 'well i guess ill be going to my home now and sleep',\n",
       " 'yeah me too i will also go home for sleep',\n",
       " 'lemme through i gotta find a big t theres millions of dollars buried under a big t',\n",
       " 'we need more information',\n",
       " 'its buried at 4723 maple valley road',\n",
       " 'ah you take highway 201 south for 15 minutes take a left at the left',\n",
       " 'oh that was fun ladies',\n",
       " 'whatsa matter with you kid you told me the stream was shallow why you oh kid ill kill you',\n",
       " 'hordes of panicky people seem to be evacuating the town for some unknown reason professor without knowing precisely what the danger is would you say its time for our viewers to crack each others heads open and feast on the goo inside',\n",
       " 'yes i would kent',\n",
       " 'whoa i found something',\n",
       " 'its just a piece of paper',\n",
       " 'its mine',\n",
       " 'frightfully sorry but there is no hidden treasure i have already used this time to escape from your jail fondest wishes oh i cant make out this signature',\n",
       " 'keep digging were bound to find something',\n",
       " 'hmmm i guess were not gonna find anything',\n",
       " 'uh howre we gonna get outta here',\n",
       " 'well dig our way out',\n",
       " 'no no dig up stupid',\n",
       " 'mental note the girl knows too much']"
      ]
     },
     "execution_count": 25,
     "metadata": {},
     "output_type": "execute_result"
    }
   ],
   "source": [
    "dialogue_list = X_subset_text_id92['normalized_text'].to_list()\n",
    "dialogue_list"
   ]
  },
  {
   "cell_type": "markdown",
   "metadata": {},
   "source": [
    "Transformando em string"
   ]
  },
  {
   "cell_type": "code",
   "execution_count": 133,
   "metadata": {},
   "outputs": [
    {
     "name": "stdout",
     "output_type": "stream",
     "text": [
      "cant talk robbed go hell\n",
      "dad weve been robbed\n",
      "wake up dad wake up there was a burglar and he took my saxophone\n",
      "woo hoo\n",
      "and our portable tv\n",
      "and my necklace\n",
      "eh thats no big loss\n",
      "homer that necklace was a priceless bouvier family heirloom\n",
      "oh youve probably got a whole drawer full of em\n",
      "well yes i do but theyre all heirlooms too\n",
      "the burglar even took my stamp collection\n",
      "you had a stamp collection\n",
      "stamp collection haw haw\n",
      "barts pain is funny but mine isnt that saxophone was my one creative outlet it was the only way i could truly express myself\n",
      "shhh quiet lisa\n",
      "hey the burglar left his calling card\n",
      "you have just been robbed by the springfield cat burglar cute\n",
      "hidilly ho neighboreenos\n",
      "you folks got robbed too the burglar took my shroud of turin beach towels\n",
      "wow its a crime wave\n",
      "good lord my stormin norman commemorative plates stolen again\n",
      "hey i thought i had more stuff than this\n",
      "we are insured arent we mom\n",
      "homer tell your child what you bought when i sent you to town to get some insurance\n",
      "curse you magic beans\n",
      "oh stop blaming the beans\n",
      "hello police are you sitting down good i wish to report a robbery\n",
      "a robbery right thanks for the report\n",
      "another one lou 723 evergreen terrace\n",
      "well there doesnt seem to be any pattern yet but if i take this one and move it here and move these over here hello it almost looks like an arrow\n",
      "hey look chief its pointing right at this police station\n",
      "lets get outta here\n",
      "when cat burglaries start can mass murders be far behind this reporter isnt saying that the burglar is an inhuman monster like the wolfman but he very well could be\n",
      "so professor would you say its time for everyone to panic\n",
      "yes i would kent\n",
      "ladies and gentlemen ladies and gentlemen please we have a major break in the case we recovered the burglars handkerchief from one of the crime scenes now one sniff of this baby and our tracking dog will be hot on his trail gosh look at me im sweating like a pig here\n",
      "ahhh aw man thats better\n",
      "alright get the scent boy come on get the scent now kill go on\n",
      "ow my jugular any questions\n",
      "let me check my reason list\n",
      "yep its on here\n",
      "well as you can see when the burglar trips the alarm the house raises from its foundations and runs down the street and around a corner to safety\n",
      "well the the real humans wont uh wont burn quite so fast there\n",
      "cool high-tech security system\n",
      "alright free laserium all the colors of the bow man\n",
      "my cataracts are gone i can see again all the beauty of nat\n",
      "im blind oh well easy come easy go\n",
      "its the cat burglar please dont kill me\n",
      "abe can i use your ointment\n",
      "oh its you molloy alright but this time clean off the applicator\n",
      "thank you for coming ill see you in hell\n",
      "alright these are our new family security rules be home before dark and make sure youre not followed lock all doors and windows\n",
      "and dont take candy from strangers\n",
      "marge theyre only human\n",
      "whats the point of all these precautions ive already lost the only thing that matters to me\n",
      "oh lisa stop pining for your saxophone i got you another instrument\n",
      "what this jug\n",
      "lisa never ever stop in the middle of a hoe-down\n",
      "aw honey i didnt realize how much that horn meant to you dont worry daddys gonna get it back i dont know how but ill figure out something\n",
      "thank you\n",
      "you know lisa music helps daddy think\n",
      "hey youre that drunken posse wow can i join you\n",
      "i dunno can you swing a sack of door knobs\n",
      "can i\n",
      "welcome neighbors since the police cant seem to get off their dufferoonies to do something about this burglarino i think its time we start our own neighborhood watch arooni\n",
      "now who should lead the group\n",
      "you\n",
      "yeah flanders flanders flanders\n",
      "i dont really have very much experience but ill be---\n",
      "someone else\n",
      "yeah someone else someone else someone else\n",
      "im someone else\n",
      "hes right\n",
      "we dont need a thinker we need a doer someone wholl act without considering the consequences\n",
      "homer homer homer\n",
      "im with you homer\n",
      "i be with ya too matey\n",
      "im with you homer\n",
      "youre the man homer\n",
      "youre so good\n",
      "youre the man man\n",
      "ill join im filled with piss and vinegar at first i was just filled with vinegar\n",
      "sorry dad youre too old\n",
      "too old why that just means i have experience who chased the irish out of springfield village in ought four me thats who\n",
      "and a fine job ye did too\n",
      "aw dad youve done a lot of great things but youre a very old man now and old people are useless arent they arent they huh yes they are yes they are\n",
      "stop it its a form of abuse\n",
      "i dont think the guns are a good idea homer\n",
      "marge were responsible adults and\n",
      "oops\n",
      "and if a group of responsible adults cant handle firearms in a responsible way\n",
      "sorry\n",
      "uh-oh\n",
      "me again\n",
      "sorry\n",
      "okay weve got the secret vigilante handshake now we need code names ill be cueball skinner can be eightball barney will be twelveball and moe you can be cueball\n",
      "youre an idiot\n",
      "so wedding huh\n",
      "no were forming a vigilante group\n",
      "come with me\n",
      "see its a miniature version of the a-bomb the government built it in the fifties to drop on beatniks\n",
      "radiant cool crazy nightmare zen new jersey nowhere\n",
      "put this in your pipe and smoke it\n",
      "how now brown bureaucrats\n",
      "woo hoo woo hoo hoo hoo\n",
      "woo hoo hoo take that maynard g krebs\n",
      "hey see this sign\n",
      "sorry\n",
      "okay men its time to clean up this town\n",
      "meaning what exactly\n",
      "you know push people around make ourselves feel big\n",
      "bart give me that megaphone of yours\n",
      "its not just a megaphone dad its a rapmaster 2000\n",
      "never mind the commercials just give it to me ive got to whip this neighborhood into shape\n",
      "move along there\n",
      "its hammer\n",
      "return to your homes and places of businesses\n",
      "hey you whered you get that saxophone\n",
      "sears\n",
      "get him\n",
      "no burning leaves without a permit\n",
      "i got one\n",
      "too late\n",
      "you better have a good reason for doing that boy\n",
      "it makes me feel like a big man\n",
      "youre in heres the sack\n",
      "but you gotta supply your own knobs\n",
      "so i said to him look buddy your car was upside down when we got here and as for your grandma she shouldnt have mouthed off like that\n",
      "dad dont you see youre abusing your power like all vigilantes i mean if youre the police who will police the police\n",
      "i unno coast guard\n",
      "homer wasnt the whole point to catch the cat burglar\n",
      "and i still dont have my saxophone\n",
      "lisa the mob is working on getting your saxophone back but weve also expanded into other important areas\n",
      "literacy programs preserving our beloved covered bridges world domination\n",
      "world domination\n",
      "oh that might be a typo\n",
      "mr simpson how do you respond to the charge that petty vandalism such as graffiti is down 80 percent while heavy sack beatings are up a shocking 900 percent\n",
      "aw people can come up with statistics to prove anything kent forty percent of all people know that\n",
      "i see well what do you say to the accusation that your group has been causing more crimes than its been preventing\n",
      "oh kent id be lying if i said my men werent committing crimes\n",
      "touché\n",
      "well it looks like we have our first caller and i mean ever because this is not a call-in show hello youre on the air\n",
      "hello kent hello homer my arch nemesis\n",
      "yello\n",
      "uh you do realize who this is\n",
      "uh marge\n",
      "no homer im not your wife although i do enjoy her pearls as a matter of fact im holding them right now listen\n",
      "why you monster and you have my daughters saxophone too\n",
      "homer thats our stage manager\n",
      "oh sorry im a little nervous\n",
      "it may interest you to know that for my next crime ill be pinching the pride and joy of the springfield museum the worlds largest cubic zirconia\n",
      "listen mr cat burglar i vow to go without sleep and guard the springfield museum day and night for as long as it takes from now on unless you want to taunt me more by giving me an approximate time\n",
      "well be right back\n",
      "i get to say that\n",
      "son we wanna help you catch that plug-ugly-yegg\n",
      "dad the best way for you to help is to set a good example just stand around and dont steal anything\n",
      "hey\n",
      "were on our break\n",
      "any sign of the burglar yet\n",
      "hell show\n",
      "hows that\n",
      "its his job\n",
      "hows that\n",
      "hes a burglar\n",
      "well mr cat burglar youd like to get in here wouldnt you theres just one little problem thirty-six years ago some lady gave birth to a man named homer j sim -- oh my god underage kids drinking beer without a permit\n",
      "chug chug chug chug chug\n",
      "asleep at the switch i wasnt asleep i was drunk\n",
      "i believe you dad\n",
      "well no matter what the paper says i still have a job to do\n",
      "go home simpson\n",
      "you let me down man now i dont believe in nothing no more im going to law school\n",
      "nooooo\n",
      "dad maybe this will cheer you up\n",
      "oh this doesnt work any more\n",
      "i didnt say stop\n",
      "oh my i had no idea how much this town loved that zirconia\n",
      "let me through coming through\n",
      "oh grampa they pelted you too\n",
      "no actually i fell down at the big boy\n",
      "son ive come to help you i know who the cat burglar is\n",
      "what who huh what\n",
      "well well well before i was too old and no one wanted my help suddenly look who comes to old grampa for--wait wherere you going\n",
      "come back ill tell you\n",
      "he was right under my nose the whole time he lives in my retirement home his name is molloy\n",
      "wow howd you track him down grampa\n",
      "good question\n",
      "on one of my frequent trips to the ground i noticed molloy wore sneakers\n",
      "for sneaking my next clue came just yesterday at the museum we felt slighted by your age-bashing and started home\n",
      "molloy said ill catch up with you\n",
      "i couldnt quite put my finger on it there was something strange about the way he walked much more vertical than usual and finally molloy unlike most retired people has the worlds largest cubic zirconia on his coffee table\n",
      "aw dad i could kiss you\n",
      "well kiss me right here its the only part that still has feeling\n",
      "no wait i know where the burglar is\n",
      "to the retirement home\n",
      "hooray\n",
      "and there she is the worlds largest cubic zirconia\n",
      "what an eyesore\n",
      "so mr molloy it seems that the cat has been caught by the very person that was trying to catch him\n",
      "how ironic\n",
      "homer old chum well done if anyone was going to catch me im glad it was you\n",
      "actually it wasnt me it was my dad grampa\n",
      "thanks son so you see old people arent so useless after all molloys old and he outsmarted the lot of ya and im even older and i outsmarted him\n",
      "shut up\n",
      "ive had my moment\n",
      "and of course im happy to return all of your treasured possessions\n",
      "selma my dear your lock of macgyvers hair\n",
      "thank you ill add it to the ball\n",
      "and little lisa heres your saxophone\n",
      "thank you and thank you dad you got it back just like you said you would\n",
      "i sincerely regret any inconvenience i may have caused and although i have stolen your material goods let me assure you that your dear town has stolen my heart\n",
      "awwwww\n",
      "oh hes so charming\n",
      "lets let him go\n",
      "yeah\n",
      "oh sorry folks gee i really hate to spoil this little love-in but mr molloy broke the law and when you break the law you gotta go to jail\n",
      "uh that reminds me uh heres your monthly kickback\n",
      "you just you couldnt have picked a worse time\n",
      "i caught the cat burglar i caught the cat burglar that means you you are the cat burglar\n",
      "i suppose youre wondering where i hid all the millions of dollars i stole over the years\n",
      "shut up\n",
      "oh wait a minute maybe we should uh hear him out whered you hide the loot molloy\n",
      "its buried right here in springfield under a big t\n",
      "no kidding\n",
      "big t huh\n",
      "well i guess ill be going to my home now and sleep\n",
      "yeah me too i will also go home for sleep\n",
      "lemme through i gotta find a big t theres millions of dollars buried under a big t\n",
      "we need more information\n",
      "its buried at 4723 maple valley road\n",
      "ah you take highway 201 south for 15 minutes take a left at the left\n",
      "oh that was fun ladies\n",
      "whatsa matter with you kid you told me the stream was shallow why you oh kid ill kill you\n",
      "hordes of panicky people seem to be evacuating the town for some unknown reason professor without knowing precisely what the danger is would you say its time for our viewers to crack each others heads open and feast on the goo inside\n",
      "yes i would kent\n",
      "whoa i found something\n",
      "its just a piece of paper\n",
      "its mine\n",
      "frightfully sorry but there is no hidden treasure i have already used this time to escape from your jail fondest wishes oh i cant make out this signature\n",
      "keep digging were bound to find something\n",
      "hmmm i guess were not gonna find anything\n",
      "uh howre we gonna get outta here\n",
      "well dig our way out\n",
      "no no dig up stupid\n",
      "mental note the girl knows too much\n"
     ]
    }
   ],
   "source": [
    "dialogue_string = \"\\n\".join(dialogue_list)\n",
    "print(dialogue_string)"
   ]
  },
  {
   "cell_type": "markdown",
   "metadata": {},
   "source": [
    "Criando o prompt"
   ]
  },
  {
   "cell_type": "code",
   "execution_count": 134,
   "metadata": {},
   "outputs": [],
   "source": [
    "prompt_sentiment_analysis = f'''\n",
    "You are a speech sentiment analysis expert for The Simpsons. You are working on a specific episode, named \"Homer the Vigilante\"\n",
    "Your job is to determine whether the overall sentiment expressed in each dialogue of the episode is positive, negative, or neutral.\n",
    "Look for the main sentiment, ignoring minor details. The output should be a JSON object with the format specified below. To guide you,\n",
    "check the <examples> with pre-classified dialogues from the episode. The <dialogues> that you will classify is a string with each line\n",
    "representing one diferent dialogue.\n",
    "\n",
    "**Output format:**\n",
    "\n",
    "```json\n",
    "[\n",
    "  \"dialogue\": \"dialogue text\", \"sentiment\": \"positive\"|\"neutral\"|\"negative\",\n",
    "  \"dialogue\": \"dialogue text\", \"sentiment\": \"positive\"|\"neutral\"|\"negative\",\n",
    "  ...\n",
    "]\n",
    "```\n",
    "\n",
    "<examples>\n",
    "\n",
    "**negative**\n",
    "\n",
    "-dad weve been robbed\n",
    "-and i still dont have my saxophone\n",
    "-wake up dad wake up there was a burglar and he took my saxophone\n",
    "-oh grampa they pelted you too\n",
    "\n",
    "**positive**\n",
    "\n",
    "-aw dad i could kiss you\n",
    "-youre so good\n",
    "-oh hes so charming\n",
    "-youre the man homer\n",
    "\n",
    "**neutral**\n",
    "\n",
    "-what this jug\n",
    "-come with me\n",
    "-well be right back\n",
    "-abe can i use your ointment\n",
    "\n",
    "</examples>\n",
    "\n",
    "<dialogues>\n",
    "\n",
    "{dialogue_string}\n",
    "\n",
    "</dialogues>\n",
    "'''"
   ]
  },
  {
   "cell_type": "code",
   "execution_count": 135,
   "metadata": {},
   "outputs": [
    {
     "name": "stdout",
     "output_type": "stream",
     "text": [
      "```json\n",
      "[\n",
      "  {\"dialogue\": \"cant talk robbed go hell\", \"sentiment\": \"negative\"},\n",
      "  {\"dialogue\": \"dad weve been robbed\", \"sentiment\": \"negative\"},\n",
      "  {\"dialogue\": \"wake up dad wake up there was a burglar and he took my saxophone\", \"sentiment\": \"negative\"},\n",
      "  {\"dialogue\": \"woo hoo\", \"sentiment\": \"positive\"},\n",
      "  {\"dialogue\": \"and our portable tv\", \"sentiment\": \"negative\"},\n",
      "  {\"dialogue\": \"and my necklace\", \"sentiment\": \"negative\"},\n",
      "  {\"dialogue\": \"eh thats no big loss\", \"sentiment\": \"neutral\"},\n",
      "  {\"dialogue\": \"homer that necklace was a priceless bouvier family heirloom\", \"sentiment\": \"negative\"},\n",
      "  {\"dialogue\": \"oh youve probably got a whole drawer full of em\", \"sentiment\": \"neutral\"},\n",
      "  {\"dialogue\": \"well yes i do but theyre all heirlooms too\", \"sentiment\": \"neutral\"},\n",
      "  {\"dialogue\": \"the burglar even took my stamp collection\", \"sentiment\": \"negative\"},\n",
      "  {\"dialogue\": \"you had a stamp collection\", \"sentiment\": \"neutral\"},\n",
      "  {\"dialogue\": \"stamp collection haw haw\", \"sentiment\": \"positive\"},\n",
      "  {\"dialogue\": \"barts pain is funny but mine isnt that saxophone was my one creative outlet it was the only way i could truly express myself\", \"sentiment\": \"negative\"},\n",
      "  {\"dialogue\": \"shhh quiet lisa\", \"sentiment\": \"negative\"},\n",
      "  {\"dialogue\": \"hey the burglar left his calling card\", \"sentiment\": \"neutral\"},\n",
      "  {\"dialogue\": \"you have just been robbed by the springfield cat burglar cute\", \"sentiment\": \"neutral\"},\n",
      "  {\"dialogue\": \"hidilly ho neighboreenos\", \"sentiment\": \"neutral\"},\n",
      "  {\"dialogue\": \"you folks got robbed too the burglar took my shroud of turin beach towels\", \"sentiment\": \"negative\"},\n",
      "  {\"dialogue\": \"wow its a crime wave\", \"sentiment\": \"negative\"},\n",
      "  {\"dialogue\": \"good lord my stormin norman commemorative plates stolen again\", \"sentiment\": \"negative\"},\n",
      "  {\"dialogue\": \"hey i thought i had more stuff than this\", \"sentiment\": \"neutral\"},\n",
      "  {\"dialogue\": \"we are insured arent we mom\", \"sentiment\": \"neutral\"},\n",
      "  {\"dialogue\": \"homer tell your child what you bought when i sent you to town to get some insurance\", \"sentiment\": \"negative\"},\n",
      "  {\"dialogue\": \"curse you magic beans\", \"sentiment\": \"negative\"},\n",
      "  {\"dialogue\": \"oh stop blaming the beans\", \"sentiment\": \"neutral\"},\n",
      "  {\"dialogue\": \"hello police are you sitting down good i wish to report a robbery\", \"sentiment\": \"negative\"},\n",
      "  {\"dialogue\": \"a robbery right thanks for the report\", \"sentiment\": \"neutral\"},\n",
      "  {\"dialogue\": \"another one lou 723 evergreen terrace\", \"sentiment\": \"negative\"},\n",
      "  {\"dialogue\": \"well there doesnt seem to be any pattern yet but if i take this one and move it here and move these over here hello it almost looks like an arrow\", \"sentiment\": \"neutral\"},\n",
      "  {\"dialogue\": \"hey look chief its pointing right at this police station\", \"sentiment\": \"neutral\"},\n",
      "  {\"dialogue\": \"lets get outta here\", \"sentiment\": \"negative\"},\n",
      "  {\"dialogue\": \"when cat burglaries start can mass murders be far behind this reporter isnt saying that the burglar is an inhuman monster like the wolfman but he very well could be\", \"sentiment\": \"negative\"},\n",
      "  {\"dialogue\": \"so professor would you say its time for everyone to panic\", \"sentiment\": \"negative\"},\n",
      "  {\"dialogue\": \"yes i would kent\", \"sentiment\": \"negative\"},\n",
      "  {\"dialogue\": \"ladies and gentlemen ladies and gentlemen please we have a major break in the case we recovered the burglars handkerchief from one of the crime scenes now one sniff of this baby and our tracking dog will be hot on his trail gosh look at me im sweating like a pig here\", \"sentiment\": \"positive\"},\n",
      "  {\"dialogue\": \"ahhh aw man thats better\", \"sentiment\": \"positive\"},\n",
      "  {\"dialogue\": \"alright get the scent boy come on get the scent now kill go on\", \"sentiment\": \"negative\"},\n",
      "  {\"dialogue\": \"ow my jugular any questions\", \"sentiment\": \"negative\"},\n",
      "  {\"dialogue\": \"let me check my reason list\", \"sentiment\": \"neutral\"},\n",
      "  {\"dialogue\": \"yep its on here\", \"sentiment\": \"neutral\"},\n",
      "  {\"dialogue\": \"well as you can see when the burglar trips the alarm the house raises from its foundations and runs down the street and around a corner to safety\", \"sentiment\": \"neutral\"},\n",
      "  {\"dialogue\": \"well the the real humans wont uh wont burn quite so fast there\", \"sentiment\": \"neutral\"},\n",
      "  {\"dialogue\": \"cool high-tech security system\", \"sentiment\": \"positive\"},\n",
      "  {\"dialogue\": \"alright free laserium all the colors of the bow man\", \"sentiment\": \"positive\"},\n",
      "  {\"dialogue\": \"my cataracts are gone i can see again all the beauty of nat\", \"sentiment\": \"positive\"},\n",
      "  {\"dialogue\": \"im blind oh well easy come easy go\", \"sentiment\": \"neutral\"},\n",
      "  {\"dialogue\": \"its the cat burglar please dont kill me\", \"sentiment\": \"negative\"},\n",
      "  {\"dialogue\": \"abe can i use your ointment\", \"sentiment\": \"neutral\"},\n",
      "  {\"dialogue\": \"oh its you molloy alright but this time clean off the applicator\", \"sentiment\": \"neutral\"},\n",
      "  {\"dialogue\": \"thank you for coming ill see you in hell\", \"sentiment\": \"negative\"},\n",
      "  {\"dialogue\": \"alright these are our new family security rules be home before dark and make sure youre not followed lock all doors and windows\", \"sentiment\": \"neutral\"},\n",
      "  {\"dialogue\": \"and dont take candy from strangers\", \"sentiment\": \"neutral\"},\n",
      "  {\"dialogue\": \"marge theyre only human\", \"sentiment\": \"neutral\"},\n",
      "  {\"dialogue\": \"whats the point of all these precautions ive already lost the only thing that matters to me\", \"sentiment\": \"negative\"},\n",
      "  {\"dialogue\": \"oh lisa stop pining for your saxophone i got you another instrument\", \"sentiment\": \"positive\"},\n",
      "  {\"dialogue\": \"what this jug\", \"sentiment\": \"neutral\"},\n",
      "  {\"dialogue\": \"lisa never ever stop in the middle of a hoe-down\", \"sentiment\": \"neutral\"},\n",
      "  {\"dialogue\": \"aw honey i didnt realize how much that horn meant to you dont worry daddys gonna get it back i dont know how but ill figure out something\", \"sentiment\": \"positive\"},\n",
      "  {\"dialogue\": \"thank you\", \"sentiment\": \"positive\"},\n",
      "  {\"dialogue\": \"you know lisa music helps daddy think\", \"sentiment\": \"neutral\"},\n",
      "  {\"dialogue\": \"hey youre that drunken posse wow can i join you\", \"sentiment\": \"positive\"},\n",
      "  {\"dialogue\": \"i dunno can you swing a sack of door knobs\", \"sentiment\": \"neutral\"},\n",
      "  {\"dialogue\": \"can i\", \"sentiment\": \"neutral\"},\n",
      "  {\"dialogue\": \"welcome neighbors since the police cant seem to get off their dufferoonies to do something about this burglarino i think its time we start our own neighborhood watch arooni\", \"sentiment\": \"positive\"},\n",
      "  {\"dialogue\": \"now who should lead the group\", \"sentiment\": \"neutral\"},\n",
      "  {\"dialogue\": \"you\", \"sentiment\": \"neutral\"},\n",
      "  {\"dialogue\": \"yeah flanders flanders flanders\", \"sentiment\": \"positive\"},\n",
      "  {\"dialogue\": \"i dont really have very much experience but ill be---\", \"sentiment\": \"neutral\"},\n",
      "  {\"dialogue\": \"someone else\", \"sentiment\": \"neutral\"},\n",
      "  {\"dialogue\": \"yeah someone else someone else someone else\", \"sentiment\": \"neutral\"},\n",
      "  {\"dialogue\": \"im someone else\", \"sentiment\": \"neutral\"},\n",
      "  {\"dialogue\": \"hes right\", \"sentiment\": \"neutral\"},\n",
      "  {\"dialogue\": \"we dont need a thinker we need a doer someone wholl act without considering the consequences\", \"sentiment\": \"neutral\"},\n",
      "  {\"dialogue\": \"homer homer homer\", \"sentiment\": \"positive\"},\n",
      "  {\"dialogue\": \"im with you homer\", \"sentiment\": \"positive\"},\n",
      "  {\"dialogue\": \"i be with ya too matey\", \"sentiment\": \"positive\"},\n",
      "  {\"dialogue\": \"im with you homer\", \"sentiment\": \"positive\"},\n",
      "  {\"dialogue\": \"youre the man homer\", \"sentiment\": \"positive\"},\n",
      "  {\"dialogue\": \"youre so good\", \"sentiment\": \"positive\"},\n",
      "  {\"dialogue\": \"youre the man man\", \"sentiment\": \"positive\"},\n",
      "  {\"dialogue\": \"ill join im filled with piss and vinegar at first i was just filled with vinegar\", \"sentiment\": \"positive\"},\n",
      "  {\"dialogue\": \"sorry dad youre too old\", \"sentiment\": \"negative\"},\n",
      "  {\"dialogue\": \"too old why that just means i have experience who chased the irish out of springfield village in ought four me thats who\", \"sentiment\": \"positive\"},\n",
      "  {\"dialogue\": \"and a fine job ye did too\", \"sentiment\": \"positive\"},\n",
      "  {\"dialogue\": \"aw dad youve done a lot of great things but youre a very old man now and old people are useless arent they arent they huh yes they are yes they are\", \"sentiment\": \"negative\"},\n",
      "  {\"dialogue\": \"stop it its a form of abuse\", \"sentiment\": \"negative\"},\n",
      "  {\"dialogue\": \"i dont think the guns are a good idea homer\", \"sentiment\": \"negative\"},\n",
      "  {\"dialogue\": \"marge were responsible adults and\", \"sentiment\": \"neutral\"},\n",
      "  {\"dialogue\": \"oops\", \"sentiment\": \"negative\"},\n",
      "  {\"dialogue\": \"and if a group of responsible adults cant handle firearms in a responsible way\", \"sentiment\": \"negative\"},\n",
      "  {\"dialogue\": \"sorry\", \"sentiment\": \"negative\"},\n",
      "  {\"dialogue\": \"uh-oh\", \"sentiment\": \"negative\"},\n",
      "  {\"dialogue\": \"me again\", \"sentiment\": \"neutral\"},\n",
      "  {\"dialogue\": \"sorry\", \"sentiment\": \"negative\"},\n",
      "  {\"dialogue\": \"okay weve got the secret vigilante handshake now we need code names ill be cueball skinner can be eightball barney will be twelveball and moe you can be cueball\", \"sentiment\": \"neutral\"},\n",
      "  {\"dialogue\": \"youre an idiot\", \"sentiment\": \"negative\"},\n",
      "  {\"dialogue\": \"so wedding huh\", \"sentiment\": \"neutral\"},\n",
      "  {\"dialogue\": \"no were forming a vigilante group\", \"sentiment\": \"neutral\"},\n",
      "  {\"dialogue\": \"come with me\", \"sentiment\": \"neutral\"},\n",
      "  {\"dialogue\": \"see its a miniature version of the a-bomb the government built it in the fifties to drop on beatniks\", \"sentiment\": \"neutral\"},\n",
      "  {\"dialogue\": \"radiant cool crazy nightmare zen new jersey nowhere\", \"sentiment\": \"neutral\"},\n",
      "  {\"dialogue\": \"put this in your pipe and smoke it\", \"sentiment\": \"neutral\"},\n",
      "  {\"dialogue\": \"how now brown bureaucrats\", \"sentiment\": \"neutral\"},\n",
      "  {\"dialogue\": \"woo hoo woo hoo hoo hoo\", \"sentiment\": \"positive\"},\n",
      "  {\"dialogue\": \"woo hoo hoo take that maynard g krebs\", \"sentiment\": \"positive\"},\n",
      "  {\"dialogue\": \"hey see this sign\", \"sentiment\": \"neutral\"},\n",
      "  {\"dialogue\": \"sorry\", \"sentiment\": \"negative\"},\n",
      "  {\"dialogue\": \"okay men its time to clean up this town\", \"sentiment\": \"positive\"},\n",
      "  {\"dialogue\": \"meaning what exactly\", \"sentiment\": \"neutral\"},\n",
      "  {\"dialogue\": \"you know push people around make ourselves feel big\", \"sentiment\": \"negative\"},\n",
      "  {\"dialogue\": \"bart give me that megaphone of yours\", \"sentiment\": \"neutral\"},\n",
      "  {\"dialogue\": \"its not just a megaphone dad its a rapmaster 2000\", \"sentiment\": \"neutral\"},\n",
      "  {\"dialogue\": \"never mind the commercials just give it to me ive got to whip this neighborhood into shape\", \"sentiment\": \"positive\"},\n",
      "  {\"dialogue\": \"move along there\", \"sentiment\": \"negative\"},\n",
      "  {\"dialogue\": \"its hammer\", \"sentiment\": \"neutral\"},\n",
      "  {\"dialogue\": \"return to your homes and places of businesses\", \"sentiment\": \"negative\"},\n",
      "  {\"dialogue\": \"hey you whered you get that saxophone\", \"sentiment\": \"neutral\"},\n",
      "  {\"dialogue\": \"sears\", \"sentiment\": \"neutral\"},\n",
      "  {\"dialogue\": \"get him\", \"sentiment\": \"negative\"},\n",
      "  {\"dialogue\": \"no burning leaves without a permit\", \"sentiment\": \"negative\"},\n",
      "  {\"dialogue\": \"i got one\", \"sentiment\": \"neutral\"},\n",
      "  {\"dialogue\": \"too late\", \"sentiment\": \"negative\"},\n",
      "  {\"dialogue\": \"you better have a good reason for doing that boy\", \"sentiment\": \"negative\"},\n",
      "  {\"dialogue\": \"it makes me feel like a big man\", \"sentiment\": \"positive\"},\n",
      "  {\"dialogue\": \"youre in heres the sack\", \"sentiment\": \"negative\"},\n",
      "  {\"dialogue\": \"but you gotta supply your own knobs\", \"sentiment\": \"neutral\"},\n",
      "  {\"dialogue\": \"so i said to him look buddy your car was upside down when we got here and as for your grandma she shouldnt have mouthed off like that\", \"sentiment\": \"negative\"},\n",
      "  {\"dialogue\": \"dad dont you see youre abusing your power like all vigilantes i mean if youre the police who will police the police\", \"sentiment\": \"negative\"},\n",
      "  {\"dialogue\": \"i unno coast guard\", \"sentiment\": \"neutral\"},\n",
      "  {\"dialogue\": \"homer wasnt the whole point to catch the cat burglar\", \"sentiment\": \"negative\"},\n",
      "  {\"dialogue\": \"and i still dont have my saxophone\", \"sentiment\": \"negative\"},\n",
      "  {\"dialogue\": \"lisa the mob is working on getting your saxophone back but weve also expanded into other important areas\", \"sentiment\": \"positive\"},\n",
      "  {\"dialogue\": \"literacy programs preserving our beloved covered bridges world domination\", \"sentiment\": \"positive\"},\n",
      "  {\"dialogue\": \"world domination\", \"sentiment\": \"neutral\"},\n",
      "  {\"dialogue\": \"oh that might be a typo\", \"sentiment\": \"neutral\"},\n",
      "  {\"dialogue\": \"mr simpson how do you respond to the charge that petty vandalism such as graffiti is down 80 percent while heavy sack beatings are up a shocking 900 percent\", \"sentiment\": \"negative\"},\n",
      "  {\"dialogue\": \"aw people can come up with statistics to prove anything kent forty percent of all people know that\", \"sentiment\": \"neutral\"},\n",
      "  {\"dialogue\": \"i see well what do you say to the accusation that your group has been causing more crimes than its been preventing\", \"sentiment\": \"negative\"},\n",
      "  {\"dialogue\": \"oh kent id be lying if i said my men werent committing crimes\", \"sentiment\": \"negative\"},\n",
      "  {\"dialogue\": \"touché\", \"sentiment\": \"neutral\"},\n",
      "  {\"dialogue\": \"well it looks like we have our first caller and i mean ever because this is not a call-in show hello youre on the air\", \"sentiment\": \"neutral\"},\n",
      "  {\"dialogue\": \"hello kent hello homer my arch nemesis\", \"sentiment\": \"negative\"},\n",
      "  {\"dialogue\": \"yello\", \"sentiment\": \"neutral\"},\n",
      "  {\"dialogue\": \"uh you do realize who this is\", \"sentiment\": \"neutral\"},\n",
      "  {\"dialogue\": \"uh marge\", \"sentiment\": \"neutral\"},\n",
      "  {\"dialogue\": \"no homer im not your wife although i do enjoy her pearls as a matter of fact im holding them right now listen\", \"sentiment\": \"negative\"},\n",
      "  {\"dialogue\": \"why you monster and you have my daughters saxophone too\", \"sentiment\": \"negative\"},\n",
      "  {\"dialogue\": \"homer thats our stage manager\", \"sentiment\": \"neutral\"},\n",
      "  {\"dialogue\": \"oh sorry im a little nervous\", \"sentiment\": \"negative\"},\n",
      "  {\"dialogue\": \"it may interest you to know that for my next crime ill be pinching the pride and joy of the springfield museum the worlds largest cubic zirconia\", \"sentiment\": \"negative\"},\n",
      "  {\"dialogue\": \"listen mr cat burglar i vow to go without sleep and guard the springfield museum day and night for as long as it takes from now on unless you want to taunt me more by giving me an approximate time\", \"sentiment\": \"negative\"},\n",
      "  {\"dialogue\": \"well be right back\", \"sentiment\": \"neutral\"},\n",
      "  {\"dialogue\": \"i get to say that\", \"sentiment\": \"neutral\"},\n",
      "  {\"dialogue\": \"son we wanna help you catch that plug-ugly-yegg\", \"sentiment\": \"positive\"},\n",
      "  {\"dialogue\": \"dad the best way for you to help is to set a good example just stand around and dont steal anything\", \"sentiment\": \"positive\"},\n",
      "  {\"dialogue\": \"hey\", \"sentiment\": \"neutral\"},\n",
      "  {\"dialogue\": \"were on our break\", \"sentiment\": \"neutral\"},\n",
      "  {\"dialogue\": \"any sign of the burglar yet\", \"sentiment\": \"neutral\"},\n",
      "  {\"dialogue\": \"hell show\", \"sentiment\": \"neutral\"},\n",
      "  {\"dialogue\": \"hows that\", \"sentiment\": \"neutral\"},\n",
      "  {\"dialogue\": \"its his job\", \"sentiment\": \"neutral\"},\n",
      "  {\"dialogue\": \"hows that\", \"sentiment\": \"neutral\"},\n",
      "  {\"dialogue\": \"hes a burglar\", \"sentiment\": \"negative\"},\n",
      "  {\"dialogue\": \"well mr cat burglar youd like to get in here wouldnt you theres just one little problem thirty-six years ago some lady gave birth to a man named homer j sim -- oh my god underage kids drinking beer without a permit\", \"sentiment\": \"negative\"},\n",
      "  {\"dialogue\": \"chug chug chug chug chug\", \"sentiment\": \"neutral\"},\n",
      "  {\"dialogue\": \"asleep at the switch i wasnt asleep i was drunk\", \"sentiment\": \"neutral\"},\n",
      "  {\"dialogue\": \"i believe you dad\", \"sentiment\": \"positive\"},\n",
      "  {\"dialogue\": \"well no matter what the paper says i still have a job to do\", \"sentiment\": \"neutral\"},\n",
      "  {\"dialogue\": \"go home simpson\", \"sentiment\": \"negative\"},\n",
      "  {\"dialogue\": \"you let me down man now i dont believe in nothing no more im going to law school\", \"sentiment\": \"negative\"},\n",
      "  {\"dialogue\": \"nooooo\", \"sentiment\": \"negative\"},\n",
      "  {\"dialogue\": \"dad maybe this will cheer you up\", \"sentiment\": \"positive\"},\n",
      "  {\"dialogue\": \"oh this doesnt work any more\", \"sentiment\": \"negative\"},\n",
      "  {\"dialogue\": \"i didnt say stop\", \"sentiment\": \"neutral\"},\n",
      "  {\"dialogue\": \"oh my i had no idea how much this town loved that zirconia\", \"sentiment\": \"positive\"},\n",
      "  {\"dialogue\": \"let me through coming through\", \"sentiment\": \"neutral\"},\n",
      "  {\"dialogue\": \"oh grampa they pelted you too\", \"sentiment\": \"negative\"},\n",
      "  {\"dialogue\": \"no actually i fell down at the big boy\", \"sentiment\": \"neutral\"},\n",
      "  {\"dialogue\": \"son ive come to help you i know who the cat burglar is\", \"sentiment\": \"positive\"},\n",
      "  {\"dialogue\": \"what who huh what\", \"sentiment\": \"neutral\"},\n",
      "  {\"dialogue\": \"well well well before i was too old and no one wanted my help suddenly look who comes to old grampa for--wait wherere you going\", \"sentiment\": \"positive\"},\n",
      "  {\"dialogue\": \"come back ill tell you\", \"sentiment\": \"neutral\"},\n",
      "  {\"dialogue\": \"he was right under my nose the whole time he lives in my retirement home his name is molloy\", \"sentiment\": \"neutral\"},\n",
      "  {\"dialogue\": \"wow howd you track him down grampa\", \"sentiment\": \"positive\"},\n",
      "  {\"dialogue\": \"good question\", \"sentiment\": \"neutral\"},\n",
      "  {\"dialogue\": \"on one of my frequent trips to the ground i noticed molloy wore sneakers\", \"sentiment\": \"neutral\"},\n",
      "  {\"dialogue\": \"for sneaking my next clue came just yesterday at the museum we felt slighted by your age-bashing and started home\", \"sentiment\": \"negative\"},\n",
      "  {\"dialogue\": \"molloy said ill catch up with you\", \"sentiment\": \"neutral\"},\n",
      "  {\"dialogue\": \"i couldnt quite put my finger on it there was something strange about the way he walked much more vertical than usual and finally molloy unlike most retired people has the worlds largest cubic zirconia on his coffee table\", \"sentiment\": \"neutral\"},\n",
      "  {\"dialogue\": \"aw dad i could kiss you\", \"sentiment\": \"positive\"},\n",
      "  {\"dialogue\": \"well kiss me right here its the only part that still has feeling\", \"sentiment\": \"neutral\"},\n",
      "  {\"dialogue\": \"no wait i know where the burglar is\", \"sentiment\": \"neutral\"},\n",
      "  {\"dialogue\": \"to the retirement home\", \"sentiment\": \"neutral\"},\n",
      "  {\"dialogue\": \"hooray\", \"sentiment\": \"positive\"},\n",
      "  {\"dialogue\": \"and there she is the worlds largest cubic zirconia\", \"sentiment\": \"neutral\"},\n",
      "  {\"dialogue\": \"what an eyesore\", \"sentiment\": \"negative\"},\n",
      "  {\"dialogue\": \"so mr molloy it seems that the cat has been caught by the very person that was trying to catch him\", \"sentiment\": \"neutral\"},\n",
      "  {\"dialogue\": \"how ironic\", \"sentiment\": \"neutral\"},\n",
      "  {\"dialogue\": \"homer old chum well done if anyone was going to catch me im glad it was you\", \"sentiment\": \"positive\"},\n",
      "  {\"dialogue\": \"actually it wasnt me it was my dad grampa\", \"sentiment\": \"neutral\"},\n",
      "  {\"dialogue\": \"thanks son so you see old people arent so useless after all molloys old and he outsmarted the lot of ya and im even older and i outsmarted him\", \"sentiment\": \"positive\"},\n",
      "  {\"dialogue\": \"shut up\", \"sentiment\": \"negative\"},\n",
      "  {\"dialogue\": \"ive had my moment\", \"sentiment\": \"neutral\"},\n",
      "  {\"dialogue\": \"and of course im happy to return all of your treasured possessions\", \"sentiment\": \"positive\"},\n",
      "  {\"dialogue\": \"selma my dear your lock of macgyvers hair\", \"sentiment\": \"neutral\"},\n",
      "  {\"dialogue\": \"thank you ill add it to the ball\", \"sentiment\": \"positive\"},\n",
      "  {\"dialogue\": \"and little lisa heres your saxophone\", \"sentiment\": \"positive\"},\n",
      "  {\"dialogue\": \"thank you and thank you dad you got it back just like you said you would\", \"sentiment\": \"positive\"},\n",
      "  {\"dialogue\": \"i sincerely regret any inconvenience i may have caused and although i have stolen your material goods let me assure you that your dear town has stolen my heart\", \"sentiment\": \"positive\"},\n",
      "  {\"dialogue\": \"awwwww\", \"sentiment\": \"positive\"},\n",
      "  {\"dialogue\": \"oh hes so charming\", \"sentiment\": \"positive\"},\n",
      "  {\"dialogue\": \"lets let him go\", \"sentiment\": \"positive\"},\n",
      "  {\"dialogue\": \"yeah\", \"sentiment\": \"neutral\"},\n",
      "  {\"dialogue\": \"oh sorry folks gee i really hate to spoil this little love-in but mr molloy broke the law and when you break the law you gotta go to jail\", \"sentiment\": \"negative\"},\n",
      "  {\"dialogue\": \"uh that reminds me uh heres your monthly kickback\", \"sentiment\": \"neutral\"},\n",
      "  {\"dialogue\": \"you just you couldnt have picked a worse time\", \"sentiment\": \"negative\"},\n",
      "  {\"dialogue\": \"i caught the cat burglar i caught the cat burglar that means you you are the cat burglar\", \"sentiment\": \"negative\"},\n",
      "  {\"dialogue\": \"i suppose youre wondering where i hid all the millions of dollars i stole over the years\", \"sentiment\": \"neutral\"},\n",
      "  {\"dialogue\": \"shut up\", \"sentiment\": \"negative\"},\n",
      "  {\"dialogue\": \"oh wait a minute maybe we should uh hear him out whered you hide the loot molloy\", \"sentiment\": \"neutral\"},\n",
      "  {\"dialogue\": \"its buried right here in springfield under a big t\", \"sentiment\": \"neutral\"},\n",
      "  {\"dialogue\": \"no kidding\", \"sentiment\": \"neutral\"},\n",
      "  {\"dialogue\": \"big t huh\", \"sentiment\": \"neutral\"},\n",
      "  {\"dialogue\": \"well i guess ill be going to my home now and sleep\", \"sentiment\": \"neutral\"},\n",
      "  {\"dialogue\": \"yeah me too i will also go home for sleep\", \"sentiment\": \"neutral\"},\n",
      "  {\"dialogue\": \"lemme through i gotta find a big t theres millions of dollars buried under a big t\", \"sentiment\": \"neutral\"},\n",
      "  {\"dialogue\": \"we need more information\", \"sentiment\": \"neutral\"},\n",
      "  {\"dialogue\": \"its buried at 4723 maple valley road\", \"sentiment\": \"neutral\"},\n",
      "  {\"dialogue\": \"ah you take highway 201 south for 15 minutes take a left at the left\", \"sentiment\": \"neutral\"},\n",
      "  {\"dialogue\": \"oh that was fun ladies\", \"sentiment\": \"positive\"},\n",
      "  {\"dialogue\": \"whatsa matter with you kid you told me the stream was shallow why you oh kid ill kill you\", \"sentiment\": \"negative\"},\n",
      "  {\"dialogue\": \"hordes of panicky people seem to be evacuating the town for some unknown reason professor without knowing precisely what the danger is would you say its time for our viewers to crack each others heads open and feast on the goo inside\", \"sentiment\": \"negative\"},\n",
      "  {\"dialogue\": \"yes i would kent\", \"sentiment\": \"negative\"},\n",
      "  {\"dialogue\": \"whoa i found something\", \"sentiment\": \"positive\"},\n",
      "  {\"dialogue\": \"its just a piece of paper\", \"sentiment\": \"neutral\"},\n",
      "  {\"dialogue\": \"its mine\", \"sentiment\": \"neutral\"},\n",
      "  {\"dialogue\": \"frightfully sorry but there is no hidden treasure i have already used this time to escape from your jail fondest wishes oh i cant make out this signature\", \"sentiment\": \"neutral\"},\n",
      "  {\"dialogue\": \"keep digging were bound to find something\", \"sentiment\": \"neutral\"},\n",
      "  {\"dialogue\": \"hmmm i guess were not gonna find anything\", \"sentiment\": \"negative\"},\n",
      "  {\"dialogue\": \"uh howre we gonna get outta here\", \"sentiment\": \"negative\"},\n",
      "  {\"dialogue\": \"well dig our way out\", \"sentiment\": \"neutral\"},\n",
      "  {\"dialogue\": \"no no dig up stupid\", \"sentiment\": \"negative\"},\n",
      "  {\"dialogue\": \"mental note the girl knows too much\", \"sentiment\": \"neutral\"}\n",
      "]\n",
      "```\n",
      "\n"
     ]
    }
   ],
   "source": [
    "model = genai.GenerativeModel(\"gemini-1.5-flash\")\n",
    "response = model.generate_content(prompt_sentiment_analysis)\n",
    "print(response.text)"
   ]
  },
  {
   "cell_type": "code",
   "execution_count": null,
   "metadata": {},
   "outputs": [],
   "source": [
    "json_normalized = response.text.replace(\"```json\\n\",'').replace(\"\\n```\",'').replace(\"\\n\", \"\")\n",
    "\n",
    "json_normalized = json.loads(json_normalized)\n",
    "\n",
    "df_sentiment = pd.DataFrame.from_dict(json_normalized)\n",
    "\n",
    "df_sentiment.head()"
   ]
  },
  {
   "cell_type": "code",
   "execution_count": 148,
   "metadata": {},
   "outputs": [
    {
     "data": {
      "text/html": [
       "<div>\n",
       "<style scoped>\n",
       "    .dataframe tbody tr th:only-of-type {\n",
       "        vertical-align: middle;\n",
       "    }\n",
       "\n",
       "    .dataframe tbody tr th {\n",
       "        vertical-align: top;\n",
       "    }\n",
       "\n",
       "    .dataframe thead th {\n",
       "        text-align: right;\n",
       "    }\n",
       "</style>\n",
       "<table border=\"1\" class=\"dataframe\">\n",
       "  <thead>\n",
       "    <tr style=\"text-align: right;\">\n",
       "      <th></th>\n",
       "      <th>sentiment</th>\n",
       "      <th>counts</th>\n",
       "    </tr>\n",
       "  </thead>\n",
       "  <tbody>\n",
       "    <tr>\n",
       "      <th>0</th>\n",
       "      <td>negative</td>\n",
       "      <td>77</td>\n",
       "    </tr>\n",
       "    <tr>\n",
       "      <th>1</th>\n",
       "      <td>neutral</td>\n",
       "      <td>115</td>\n",
       "    </tr>\n",
       "    <tr>\n",
       "      <th>2</th>\n",
       "      <td>positive</td>\n",
       "      <td>52</td>\n",
       "    </tr>\n",
       "  </tbody>\n",
       "</table>\n",
       "</div>"
      ],
      "text/plain": [
       "  sentiment  counts\n",
       "0  negative      77\n",
       "1   neutral     115\n",
       "2  positive      52"
      ]
     },
     "execution_count": 148,
     "metadata": {},
     "output_type": "execute_result"
    }
   ],
   "source": [
    "df_sentiment_count = df_sentiment.groupby(['sentiment']).size().reset_index(name='counts')\n",
    "\n",
    "df_sentiment_count.head()\n"
   ]
  },
  {
   "cell_type": "code",
   "execution_count": 161,
   "metadata": {},
   "outputs": [
    {
     "data": {
      "image/png": "[encoded data removed]",
      "text/plain": [
       "<Figure size 640x480 with 1 Axes>"
      ]
     },
     "metadata": {},
     "output_type": "display_data"
    }
   ],
   "source": [
    "fig, ax = plt.subplots()\n",
    "\n",
    "colors = sns.color_palette('dark')\n",
    "\n",
    "ax.pie(df_sentiment_count['counts'],\n",
    "       autopct='%1.1f%%',\n",
    "       colors=colors,\n",
    "       textprops=dict(color='w'))\n",
    "\n",
    "ax.legend(df_sentiment_count['sentiment'],\n",
    "          title='Type of sentiment',\n",
    "          loc=\"center left\",\n",
    "          bbox_to_anchor=(1, 0, 0.5, 1))\n",
    "\n",
    "ax.set_title('Percentage of dialogues by sentiment',\n",
    "             loc='center')\n",
    "\n",
    "plt.show(fig)"
   ]
  },
  {
   "cell_type": "markdown",
   "metadata": {},
   "source": [
    "## Questão 7 - Resumo Episódio"
   ]
  },
  {
   "cell_type": "code",
   "execution_count": 36,
   "metadata": {},
   "outputs": [
    {
     "name": "stdout",
     "output_type": "stream",
     "text": [
      "Meu resumo teve aproximadamente 423 tokens\n"
     ]
    }
   ],
   "source": [
    "resumo = '''\n",
    "The episode begins with an unidentified burglar entering the Simpsons house at night and stealing multiple objects,\n",
    "like Lisa's saxophone, Marge's pearl collar and a portable TV. In the morning, the Simpsons notice the missing objects,\n",
    "and find that the burglar left his business card. Ned flanders and multiple Springfield residents also have been robbed.\n",
    "Homer calls the police, who do nothing. The attempt of the police chief Wiggum in tracking the burglar is unsuccessful.\n",
    "The Springfield residents begin to install home security equipment. Lisa is still sad about losing her saxophone, which\n",
    "moves Homer into doing something. Ned Flanders suggests the creation of a vigilante group, and Homer becomes its leader.\n",
    "Homer's vigilante group proves to be unsuccessful in catching the burglar, and is abusing power, harassing the neighborhood.\n",
    "Lisa and Marge point to the abuse of power of the vigilante group. Homer goes to the local TV News to talk about the actions\n",
    "of the vigilante group, when the burglar makes a phone call and taunts Homer, saying that he has Lisa's saxophone and Marge's\n",
    "necklace. The burglar also says that he will steal the Springfield museum cubic zirconia.\n",
    "Homer's vigilante group attempts to watch over the museum, but Homer gets drunk and the cubic zirconia is robbed. The whole town\n",
    "is mad at Homer because of his failure, and the vigilante group falls apart. Grandpa Simpson goes to Homer's house and tells the\n",
    "family that he discovered who is the burglar: Molloy, a colleague from the retirement home. All the town goes to the retirement home\n",
    "to catch Molloy, who apologizes and returns the stolen items. In the prison, Molloy tells Homer, police chief Wiggum and other officers\n",
    "that he hid millions of dollars, \"under a big T\". This leads the whole town in a treasure hunt. Molloy's instructions lead them to a tree\n",
    "with the shape of a T. They dig the site and only find a message from Molloy saying that the treasure hunt was only a trick to escape prison.\n",
    "'''\n",
    "# Quebrando a string e depois juntando para melhor visualização.\n",
    "resumo = resumo.replace('\\n', '')\n",
    "\n",
    "tokens =  estimar_tokens(resumo)\n",
    "\n",
    "print(f'Meu resumo teve aproximadamente {len(tokens)} tokens')"
   ]
  },
  {
   "cell_type": "markdown",
   "metadata": {},
   "source": [
    "## Questão 8 - Resumos Complexos com Chunks de Texto"
   ]
  },
  {
   "cell_type": "code",
   "execution_count": 14,
   "metadata": {},
   "outputs": [],
   "source": [
    "X_subset_dialogue = X[['episode_id', 'character_normalized_name','location_normalized_name', 'normalized_text']].query('episode_id == 92').copy()"
   ]
  },
  {
   "cell_type": "markdown",
   "metadata": {},
   "source": [
    "Filtrando somente o episódio de id 92"
   ]
  },
  {
   "cell_type": "code",
   "execution_count": 15,
   "metadata": {},
   "outputs": [
    {
     "data": {
      "text/html": [
       "<div>\n",
       "<style scoped>\n",
       "    .dataframe tbody tr th:only-of-type {\n",
       "        vertical-align: middle;\n",
       "    }\n",
       "\n",
       "    .dataframe tbody tr th {\n",
       "        vertical-align: top;\n",
       "    }\n",
       "\n",
       "    .dataframe thead th {\n",
       "        text-align: right;\n",
       "    }\n",
       "</style>\n",
       "<table border=\"1\" class=\"dataframe\">\n",
       "  <thead>\n",
       "    <tr style=\"text-align: right;\">\n",
       "      <th></th>\n",
       "      <th>character_normalized_name</th>\n",
       "      <th>location_normalized_name</th>\n",
       "      <th>normalized_text</th>\n",
       "    </tr>\n",
       "  </thead>\n",
       "  <tbody>\n",
       "    <tr>\n",
       "      <th>0</th>\n",
       "      <td>homer simpson</td>\n",
       "      <td>simpson home</td>\n",
       "      <td>cant talk robbed go hell</td>\n",
       "    </tr>\n",
       "    <tr>\n",
       "      <th>1</th>\n",
       "      <td>bart simpson</td>\n",
       "      <td>simpson home</td>\n",
       "      <td>dad weve been robbed</td>\n",
       "    </tr>\n",
       "    <tr>\n",
       "      <th>2</th>\n",
       "      <td>lisa simpson</td>\n",
       "      <td>simpson home</td>\n",
       "      <td>wake up dad wake up there was a burglar and he...</td>\n",
       "    </tr>\n",
       "    <tr>\n",
       "      <th>3</th>\n",
       "      <td>homer simpson</td>\n",
       "      <td>simpson home</td>\n",
       "      <td>woo hoo</td>\n",
       "    </tr>\n",
       "    <tr>\n",
       "      <th>4</th>\n",
       "      <td>bart simpson</td>\n",
       "      <td>simpson home</td>\n",
       "      <td>and our portable tv</td>\n",
       "    </tr>\n",
       "  </tbody>\n",
       "</table>\n",
       "</div>"
      ],
      "text/plain": [
       "  character_normalized_name location_normalized_name  \\\n",
       "0             homer simpson             simpson home   \n",
       "1              bart simpson             simpson home   \n",
       "2              lisa simpson             simpson home   \n",
       "3             homer simpson             simpson home   \n",
       "4              bart simpson             simpson home   \n",
       "\n",
       "                                     normalized_text  \n",
       "0                           cant talk robbed go hell  \n",
       "1                               dad weve been robbed  \n",
       "2  wake up dad wake up there was a burglar and he...  \n",
       "3                                            woo hoo  \n",
       "4                                and our portable tv  "
      ]
     },
     "execution_count": 15,
     "metadata": {},
     "output_type": "execute_result"
    }
   ],
   "source": [
    "X_subset_dialogue.drop(columns=['episode_id'], inplace=True)\n",
    "\n",
    "X_subset_dialogue.reset_index(drop=True, inplace=True)\n",
    "\n",
    "X_subset_dialogue.head()"
   ]
  },
  {
   "cell_type": "markdown",
   "metadata": {},
   "source": [
    "Criando uma lista de diálogos, onde cada item da lista é um único diálogo"
   ]
  },
  {
   "cell_type": "code",
   "execution_count": 16,
   "metadata": {},
   "outputs": [
    {
     "data": {
      "text/plain": [
       "['homer simpson simpson home cant talk robbed go hell',\n",
       " 'bart simpson simpson home dad weve been robbed',\n",
       " 'lisa simpson simpson home wake up dad wake up there was a burglar and he took my saxophone',\n",
       " 'homer simpson simpson home woo hoo',\n",
       " 'bart simpson simpson home and our portable tv',\n",
       " 'marge simpson simpson home and my necklace',\n",
       " 'homer simpson simpson home eh thats no big loss',\n",
       " 'marge simpson simpson home homer that necklace was a priceless bouvier family heirloom',\n",
       " 'homer simpson simpson home oh youve probably got a whole drawer full of em',\n",
       " 'marge simpson simpson home well yes i do but theyre all heirlooms too']"
      ]
     },
     "execution_count": 16,
     "metadata": {},
     "output_type": "execute_result"
    }
   ],
   "source": [
    "dialogue_ep_id92 = ''\n",
    "\n",
    "for i in range(len(X_subset_dialogue)):\n",
    "    dialogue_ep_id92 += \" \".join(X_subset_dialogue.iloc[i].astype(str)) + '\\n'\n",
    "\n",
    "dialogue_ep_id92 = dialogue_ep_id92.split('\\n')\n",
    "\n",
    "dialogue_ep_id92[0:10]"
   ]
  },
  {
   "cell_type": "markdown",
   "metadata": {},
   "source": [
    "Alterando a classe ChunkSummary para a mesma trabalhar com uma lista no input, não uma string"
   ]
  },
  {
   "cell_type": "code",
   "execution_count": 18,
   "metadata": {},
   "outputs": [],
   "source": [
    "class ChunkSummary():\n",
    "    def __init__(self, model_name, apikey, dialogues, window_size, overlap_size):\n",
    "        # Garante que os diálogos sejam uma lista\n",
    "        self.dialogues = dialogues if isinstance(dialogues, list) else [dialogues]\n",
    "        self.window_size = window_size\n",
    "        self.overlap_size = overlap_size\n",
    "        \n",
    "        # Criar chunks de diálogos\n",
    "        self.chunks = self.__dialogues_to_chunks()\n",
    "        \n",
    "        # Criar modelo\n",
    "        self.model = self.__create_model(apikey, model_name)\n",
    "\n",
    "    def __create_model(self, apikey, model_name):\n",
    "        genai.configure(api_key=apikey)\n",
    "        \n",
    "        self.prompt_base = f\"\"\"\n",
    "        You are an editor assistant analyzing dialogue chunks.\n",
    "        You will receive dialogue lines from a conversation or script.\n",
    "        \n",
    "        Create a summary of the dialogues, highlighting:\n",
    "        - Key speakers\n",
    "        - Most important conversation points\n",
    "        - Context and progression of the dialogue\n",
    "        - Significant interactions or revelations\n",
    "        \n",
    "        The summary output must be a clear, concise JSON with a 'summary' field.\n",
    "        \"\"\"\n",
    "        \n",
    "        safety_settings = {\n",
    "            HarmCategory.HARM_CATEGORY_HATE_SPEECH: HarmBlockThreshold.BLOCK_NONE,\n",
    "            HarmCategory.HARM_CATEGORY_HARASSMENT: HarmBlockThreshold.BLOCK_NONE,\n",
    "            HarmCategory.HARM_CATEGORY_SEXUALLY_EXPLICIT: HarmBlockThreshold.BLOCK_NONE,\n",
    "            HarmCategory.HARM_CATEGORY_DANGEROUS_CONTENT: HarmBlockThreshold.BLOCK_NONE,\n",
    "        }\n",
    "        \n",
    "        generation_config = {\n",
    "            'temperature': 0.2,\n",
    "            'top_p': 0.8,\n",
    "            'top_k': 20,\n",
    "            'max_output_tokens': 1000\n",
    "        }\n",
    "        \n",
    "        return genai.GenerativeModel(\n",
    "            model_name,\n",
    "            system_instruction=self.prompt_base,\n",
    "            generation_config=generation_config,\n",
    "            safety_settings=safety_settings\n",
    "        )\n",
    "\n",
    "    def __dialogues_to_chunks(self):\n",
    "        \"\"\"\n",
    "        Cria chunks de diálogos com tamanhos de janela e sobreposição especificados\n",
    "        \n",
    "        Args:\n",
    "            window_size (int): Número de diálogos em cada chunk\n",
    "            overlap_size (int): Número de diálogos para sobrepor entre chunks\n",
    "        \n",
    "        Returns:\n",
    "            Lista de chunks de diálogos\n",
    "        \"\"\"\n",
    "        n = self.window_size  # Tamanho de cada chunk\n",
    "        m = self.overlap_size  # Sobreposição entre chunks\n",
    "        \n",
    "        # Criar chunks com janela e sobreposição especificadas\n",
    "        return [self.dialogues[i:i+n] for i in range(0, len(self.dialogues), n-m)]\n",
    "\n",
    "    def __create_chunk_prompt(self, chunk):\n",
    "        \"\"\"\n",
    "        Cria um prompt para um chunk de diálogos\n",
    "        \n",
    "        Args:\n",
    "            chunk (list): Lista de diálogos no chunk atual\n",
    "        \n",
    "        Returns:\n",
    "            str: Prompt formatado para o chunk de diálogos\n",
    "        \"\"\"\n",
    "        # Converter cada diálogo para uma string formatada\n",
    "        chunk_lines = '\\n'.join(str(dialogue) for dialogue in chunk)\n",
    "        \n",
    "        prompt = f\"\"\"\n",
    "        Dialogue Chunk:\n",
    "        {chunk_lines}\n",
    "        \n",
    "        Summarize the key points and interactions in this dialogue chunk.\n",
    "        \"\"\"\n",
    "        return prompt\n",
    "    \n",
    "    def __summarize_chunks(self):\n",
    "        \"\"\"\n",
    "        Resumir cada chunk de diálogos\n",
    "        \n",
    "        Returns:\n",
    "            list: Resumos para cada chunk de diálogos\n",
    "        \"\"\"\n",
    "        chunk_summaries = []\n",
    "        \n",
    "        for i, chunk in enumerate(self.chunks):\n",
    "            print(f'Summarizing chunk {i+1} from {len(self.chunks)}')\n",
    "            \n",
    "            # Criar e processar prompt para o chunk\n",
    "            prompt = self.__create_chunk_prompt(chunk)\n",
    "            response = self.model.generate_content(prompt)\n",
    "            \n",
    "            chunk_summaries.append(response.text)\n",
    "        \n",
    "        return chunk_summaries\n",
    "\n",
    "    def summarize(self, return_chunk_summaries=True):\n",
    "        \"\"\"\n",
    "        Realizar sumarização final em todos os chunks de diálogos\n",
    "        \n",
    "        Args:\n",
    "            return_chunk_summaries (bool): Se deve retornar os resumos dos chunks\n",
    "        \n",
    "        Returns:\n",
    "            dict ou str: Dicionário com resumos dos chunks e resumo final, \n",
    "                         ou apenas resumo final dependendo do parâmetro\n",
    "        \"\"\"\n",
    "        print('Summarizing dialogues')\n",
    "        \n",
    "        # Obter resumos para cada chunk\n",
    "        self.chunk_summaries = self.__summarize_chunks()\n",
    "        \n",
    "        # Formatar resumos dos chunks para sumarização final\n",
    "        summaries = '- ' + '\\n- '.join(self.chunk_summaries)\n",
    "        \n",
    "        # Criar prompt de sumarização final\n",
    "        final_prompt = f\"\"\"\n",
    "        You are a comprehensive editor tasked with creating an overarching summary\n",
    "        of dialogues across multiple chunks. Consider the following partial summaries:\n",
    "        \n",
    "        {summaries}\n",
    "        \n",
    "        Generate a holistic summary that captures:\n",
    "        - Overall narrative flow\n",
    "        - Key interactions and developments\n",
    "        - Significant themes or insights\n",
    "        \n",
    "        Provide the summary in a clear JSON format with a 'summary' field.\n",
    "        \"\"\"\n",
    "        \n",
    "        print('Generating final summary')\n",
    "        response = self.model.generate_content(final_prompt)\n",
    "        \n",
    "        # Armazenar resumo final\n",
    "        self.final_summary = response.text\n",
    "        \n",
    "        # Retornar de acordo com o parâmetro\n",
    "        if return_chunk_summaries:\n",
    "            return {\n",
    "                'chunk_summaries': self.chunk_summaries,\n",
    "                'final_summary': self.final_summary\n",
    "            }\n",
    "        else:\n",
    "            return self.final_summary"
   ]
  },
  {
   "cell_type": "code",
   "execution_count": 19,
   "metadata": {},
   "outputs": [
    {
     "name": "stdout",
     "output_type": "stream",
     "text": [
      "Summarizing dialogues\n",
      "Summarizing chunk 1 from 4\n",
      "Summarizing chunk 2 from 4\n",
      "Summarizing chunk 3 from 4\n",
      "Summarizing chunk 4 from 4\n",
      "Generating final summary\n"
     ]
    }
   ],
   "source": [
    "summarizer = ChunkSummary(model_name='gemini-1.5-flash',\n",
    "             apikey=os.environ[\"GOOGLE_API_KEY\"],\n",
    "             dialogues=dialogue_ep_id92,\n",
    "             window_size=100,\n",
    "             overlap_size=25)\n",
    "\n",
    "episode_summary = summarizer.summarize()"
   ]
  },
  {
   "cell_type": "code",
   "execution_count": 20,
   "metadata": {},
   "outputs": [
    {
     "data": {
      "text/plain": [
       "\"The overarching narrative follows Homer Simpson's accidental and ultimately unsuccessful involvement in a series of events triggered by a cat burglar's spree in Springfield.  It begins with the burglar stealing various items from the Simpsons' home and other residents, sparking a city-wide panic and Chief Wiggum's ineffective investigation.  Homer, initially apathetic, forms a vigilante group after a misunderstanding about gun ownership, recruiting various Springfield residents.  This group's actions escalate from minor infractions to heavy-handed enforcement, causing more chaos.  A subplot involves Homer's encounter with a beatnik and a miniature A-bomb.  The group's ineptitude is highlighted by their failure to catch the burglar, Molloy, who is revealed to be charming and remorseful.  Grampa Simpson unexpectedly plays a key role in identifying Molloy, a resident of his retirement home.  Molloy's vague directions about buried treasure lead to a town-wide, ultimately fruitless, treasure hunt involving Chief Wiggum, the Mayor, and other Springfield residents.  The narrative jumps between the treasure hunt and unrelated events, highlighting the chaotic and absurd nature of the situation.  The story ends with the vigilante group's downfall, Homer's continued denial of his failures, and a suggestion of a larger, unresolved mystery.  Key themes include the absurdity of the situation, the contrast between Homer's intentions and his actions, the ineptitude of authority figures, and the unexpected heroism of Grampa Simpson.  Significant interactions include Homer's interactions with his family (Marge and Lisa criticize his actions), his interactions with the vigilante group members, and his encounters with Chief Wiggum and Molloy.  The overall narrative arc is comedic, highlighting the quirky characters and their chaotic interactions within the context of a seemingly simple crime spree.\""
      ]
     },
     "execution_count": 20,
     "metadata": {},
     "output_type": "execute_result"
    }
   ],
   "source": [
    "final_summary = json.loads(episode_summary['final_summary'].replace(\"```json\\n\",'').replace(\"\\n```\",''))\n",
    "\n",
    "final_summary['summary']"
   ]
  },
  {
   "cell_type": "markdown",
   "metadata": {},
   "source": [
    "Resumo do episódio:"
   ]
  },
  {
   "cell_type": "markdown",
   "metadata": {},
   "source": [
    "\"The overarching narrative follows Homer Simpson's accidental and ultimately unsuccessful involvement in a series of events triggered by a cat burglar's spree in Springfield.  It begins with the burglar stealing various items from the Simpsons' home and other residents, sparking a city-wide panic and Chief Wiggum's ineffective investigation.  Homer, initially apathetic, forms a vigilante group after a misunderstanding about gun ownership, recruiting various Springfield residents.  This group's actions escalate from minor infractions to heavy-handed enforcement, causing more chaos.  A subplot involves Homer's encounter with a beatnik and a miniature A-bomb.  The group's ineptitude is highlighted by their failure to catch the burglar, Molloy, who is revealed to be charming and remorseful.  Grampa Simpson unexpectedly plays a key role in identifying Molloy, a resident of his retirement home.  Molloy's vague directions about buried treasure lead to a town-wide, ultimately fruitless, treasure hunt involving Chief Wiggum, the Mayor, and other Springfield residents.  The narrative jumps between the treasure hunt and unrelated events, highlighting the chaotic and absurd nature of the situation.  The story ends with the vigilante group's downfall, Homer's continued denial of his failures, and a suggestion of a larger, unresolved mystery.  Key themes include the absurdity of the situation, the contrast between Homer's intentions and his actions, the ineptitude of authority figures, and the unexpected heroism of Grampa Simpson.  Significant interactions include Homer's interactions with his family (Marge and Lisa criticize his actions), his interactions with the vigilante group members, and his encounters with Chief Wiggum and Molloy.  The overall narrative arc is comedic, highlighting the quirky characters and their chaotic interactions within the context of a seemingly simple crime spree.\""
   ]
  },
  {
   "cell_type": "markdown",
   "metadata": {},
   "source": [
    "Resumos de cada chunk:"
   ]
  },
  {
   "cell_type": "code",
   "execution_count": 22,
   "metadata": {},
   "outputs": [
    {
     "data": {
      "text/plain": [
       "'{  \"summary\": \"The Simpsons\\' home is robbed by the Springfield Cat Burglar, who steals various items including Lisa\\'s saxophone, Marge\\'s necklace, and Bart\\'s stamp collection.  The robbery sparks a neighborhood-wide crime spree, with many residents becoming victims.  Chief Wiggum\\'s inept investigation leads to a city-wide panic.  Homer\\'s initial apathy turns to action when Lisa is distraught over her stolen saxophone.  The family implements new security measures, but Lisa remains despondent.  The episode culminates in the formation of a neighborhood watch group, led by Homer, who plans to fight back against the burglar, despite Marge\\'s concerns about their use of firearms.\"}'"
      ]
     },
     "execution_count": 22,
     "metadata": {},
     "output_type": "execute_result"
    }
   ],
   "source": [
    "chunks_summary = ([chunk.replace(\"```json\",'').replace(\"```\",'').replace('\\n', '') for chunk in episode_summary['chunk_summaries']])\n",
    "\n",
    "chunks_summary[0]"
   ]
  },
  {
   "cell_type": "markdown",
   "metadata": {},
   "source": [
    "'{  \"summary\": \"The Simpsons\\' home is robbed by the Springfield Cat Burglar, who steals various items including Lisa\\'s saxophone, Marge\\'s necklace, and Bart\\'s stamp collection.  The robbery sparks a neighborhood-wide crime spree, with many residents becoming victims.  Chief Wiggum\\'s inept investigation leads to a city-wide panic.  Homer\\'s initial apathy turns to action when Lisa is distraught over her stolen saxophone.  The family implements new security measures, but Lisa remains despondent.  The episode culminates in the formation of a neighborhood watch group, led by Homer, who plans to fight back against the burglar, despite Marge\\'s concerns about their use of firearms.\"}'"
   ]
  },
  {
   "cell_type": "code",
   "execution_count": 23,
   "metadata": {},
   "outputs": [
    {
     "data": {
      "text/plain": [
       "'{  \"summary\": \"This dialogue chunk centers around Homer Simpson forming a vigilante group after a misunderstanding about responsible gun ownership.  Many Springfield residents, including Barney, Skinner, Moe, Apu, and Otto, initially join Homer\\'s group.  Grampa\\'s attempts to participate are rebuffed by Homer due to his age.  The group\\'s activities quickly escalate from minor infractions to heavy-handed enforcement, causing more problems than they solve.  A subplot involves Homer\\'s interaction with a beatnik who shows him a miniature A-bomb.  The group\\'s actions are criticized by Marge and Lisa, who highlight the abuse of power.  The climax involves a confrontation with a cat burglar on a live TV show, where the burglar reveals he has Lisa\\'s saxophone and Marge\\'s pearls.  The group\\'s ineptitude is further highlighted by their failure to prevent petty crimes and their involvement in new ones.  The story ends with the group\\'s downfall, Jimbo\\'s disillusionment, and Homer\\'s continued denial of his failures.\"}'"
      ]
     },
     "execution_count": 23,
     "metadata": {},
     "output_type": "execute_result"
    }
   ],
   "source": [
    "chunks_summary[1]"
   ]
  },
  {
   "cell_type": "markdown",
   "metadata": {},
   "source": [
    "'{  \"summary\": \"This dialogue chunk centers around Homer Simpson forming a vigilante group after a misunderstanding about responsible gun ownership.  Many Springfield residents, including Barney, Skinner, Moe, Apu, and Otto, initially join Homer\\'s group.  Grampa\\'s attempts to participate are rebuffed by Homer due to his age.  The group\\'s activities quickly escalate from minor infractions to heavy-handed enforcement, causing more problems than they solve.  A subplot involves Homer\\'s interaction with a beatnik who shows him a miniature A-bomb.  The group\\'s actions are criticized by Marge and Lisa, who highlight the abuse of power.  The climax involves a confrontation with a cat burglar on a live TV show, where the burglar reveals he has Lisa\\'s saxophone and Marge\\'s pearls.  The group\\'s ineptitude is further highlighted by their failure to prevent petty crimes and their involvement in new ones.  The story ends with the group\\'s downfall, Jimbo\\'s disillusionment, and Homer\\'s continued denial of his failures.\"}'"
   ]
  },
  {
   "cell_type": "code",
   "execution_count": 24,
   "metadata": {},
   "outputs": [
    {
     "data": {
      "text/plain": [
       "'{  \"summary\": \"This dialogue chunk centers around Homer Simpson\\'s attempt to protect the Springfield Museum\\'s prized cubic zirconia from a cat burglar.  Key speakers include Homer, his father Grampa Simpson, Chief Wiggum, and the cat burglar, Molloy.  The conversation progresses from Homer\\'s initial vow to protect the zirconia, to a chaotic scene involving children drinking underage, Homer\\'s temporary job loss, and ultimately, Grampa\\'s surprising role in catching Molloy. Grampa cleverly deduces Molloy\\'s identity through observation and reveals him to be a resident of his retirement home.  A significant revelation is that Molloy, despite his crime, is charming and remorseful, leading to a temporary outpouring of sympathy from the townspeople before Chief Wiggum arrests him.  The dialogue concludes with a humorous twist: Molloy\\'s vague directions about the location of his buried loot lead to a town-wide treasure hunt, ending in disappointment.  The interaction between Homer and his family, particularly his reliance on Grampa\\'s unexpected detective skills, is a key theme. The overall tone is comedic, highlighting the absurdity of the situation and the quirky characters involved.\"}'"
      ]
     },
     "execution_count": 24,
     "metadata": {},
     "output_type": "execute_result"
    }
   ],
   "source": [
    "chunks_summary[2]"
   ]
  },
  {
   "cell_type": "markdown",
   "metadata": {},
   "source": [
    "'{  \"summary\": \"This dialogue chunk centers around Homer Simpson\\'s attempt to protect the Springfield Museum\\'s prized cubic zirconia from a cat burglar.  Key speakers include Homer, his father Grampa Simpson, Chief Wiggum, and the cat burglar, Molloy.  The conversation progresses from Homer\\'s initial vow to protect the zirconia, to a chaotic scene involving children drinking underage, Homer\\'s temporary job loss, and ultimately, Grampa\\'s surprising role in catching Molloy. Grampa cleverly deduces Molloy\\'s identity through observation and reveals him to be a resident of his retirement home.  A significant revelation is that Molloy, despite his crime, is charming and remorseful, leading to a temporary outpouring of sympathy from the townspeople before Chief Wiggum arrests him.  The dialogue concludes with a humorous twist: Molloy\\'s vague directions about the location of his buried loot lead to a town-wide treasure hunt, ending in disappointment.  The interaction between Homer and his family, particularly his reliance on Grampa\\'s unexpected detective skills, is a key theme. The overall tone is comedic, highlighting the absurdity of the situation and the quirky characters involved.\"}'"
   ]
  },
  {
   "cell_type": "code",
   "execution_count": 25,
   "metadata": {},
   "outputs": [
    {
     "data": {
      "text/plain": [
       "'{  \"summary\": \"The dialogue takes place across multiple locations (Springfield Police Station, downtown Springfield, a park) and involves several characters.  Homer Simpson frantically searches for buried treasure, providing clues that lead Chief Wiggum and others on a wild goose chase.  Molloy provides a specific location for the treasure, but it turns out to be a false lead.  The conversation jumps between the treasure hunt and other unrelated events, such as a panicked town evacuation reported by Kent Brockman and a seemingly unrelated incident involving a driver and a child.  Barney makes an irrelevant comment, and Otto Mann finds a piece of paper that Homer claims as his own, revealing it to be a note with an illegible signature.  The Mayor joins the search, which ultimately proves fruitless.  The dialogue ends with the group trapped and Homer making a mental note about someone knowing too much, suggesting a larger mystery or plot beyond the treasure hunt.\"}'"
      ]
     },
     "execution_count": 25,
     "metadata": {},
     "output_type": "execute_result"
    }
   ],
   "source": [
    "chunks_summary[3]"
   ]
  },
  {
   "cell_type": "markdown",
   "metadata": {},
   "source": [
    "'{  \"summary\": \"The dialogue takes place across multiple locations (Springfield Police Station, downtown Springfield, a park) and involves several characters.  Homer Simpson frantically searches for buried treasure, providing clues that lead Chief Wiggum and others on a wild goose chase.  Molloy provides a specific location for the treasure, but it turns out to be a false lead.  The conversation jumps between the treasure hunt and other unrelated events, such as a panicked town evacuation reported by Kent Brockman and a seemingly unrelated incident involving a driver and a child.  Barney makes an irrelevant comment, and Otto Mann finds a piece of paper that Homer claims as his own, revealing it to be a note with an illegible signature.  The Mayor joins the search, which ultimately proves fruitless.  The dialogue ends with the group trapped and Homer making a mental note about someone knowing too much, suggesting a larger mystery or plot beyond the treasure hunt.\"}'"
   ]
  },
  {
   "cell_type": "markdown",
   "metadata": {},
   "source": [
    "## Questão 9 - Avaliação de Resumos de LLMs"
   ]
  },
  {
   "cell_type": "markdown",
   "metadata": {},
   "source": [
    "Resumo final"
   ]
  },
  {
   "cell_type": "code",
   "execution_count": 45,
   "metadata": {},
   "outputs": [],
   "source": [
    "hypothesis = '''The overarching narrative follows Homer Simpson's accidental and ultimately unsuccessful\n",
    "involvement in a series of events triggered by a cat burglar's spree in Springfield. It begins with the burglar\n",
    "stealing various items from the Simpsons' home and other residents, sparking a city-wide panic and Chief Wiggum's\n",
    "ineffective investigation.  Homer, initially apathetic, forms a vigilante group after a misunderstanding about gun ownership,\n",
    "recruiting various Springfield residents.  This group's actions escalate from minor infractions to heavy-handed enforcement, \n",
    "causing more chaos.  A subplot involves Homer's encounter with a beatnik and a miniature A-bomb.  The group's ineptitude is\n",
    "highlighted by their failure to catch the burglar, Molloy, who is revealed to be charming and remorseful. Grampa Simpson unexpectedly\n",
    "plays a key role in identifying Molloy, a resident of his retirement home.  Molloy's vague directions about buried treasure lead to a\n",
    "town-wide, ultimately fruitless, treasure hunt involving Chief Wiggum, the Mayor, and other Springfield residents. The narrative jumps between\n",
    "the treasure hunt and unrelated events, highlighting the chaotic and absurd nature of the situation. The story ends with the vigilante group's\n",
    "downfall, Homer's continued denial of his failures, and a suggestion of a larger, unresolved mystery. Key themes include the absurdity of\n",
    "the situation, the contrast between Homer's intentions and his actions, the ineptitude of authority figures, and the unexpected heroism\n",
    "of Grampa Simpson.  Significant interactions include Homer's interactions with his family (Marge and Lisa criticize his actions), his\n",
    "interactions with the vigilante group members, and his encounters with Chief Wiggum and Molloy. The overall narrative arc is comedic,\n",
    "highlighting the quirky characters and their chaotic interactions within the context of a seemingly simple crime spree.\"'''\n",
    "\n",
    "## Quebrando as linhas e juntando depois para melhor visualização\n",
    "hypothesis = hypothesis.replace('\\n', ' ')\n",
    "\n",
    "reference = '''The episode begins with an unidentified burglar entering the Simpsons house at night and stealing multiple objects, like Lisa's saxophone,\n",
    "Marge's pearl collar and a portable TV. In the morning, the Simpsons notice the missing objects, and find that the burglar left his business card.\n",
    "Ned flanders and multiple Springfield residents also have been robbed. Homer calls the police, who do nothing. The attempt of the police chief Wiggum\n",
    "in tracking the burglar is unsuccessful. The Springfield residents begin to install home security equipment. Lisa is still sad about losing her saxophone,\n",
    "which moves Homer into doing something. Ned Flanders suggests the creation of a vigilante group, and Homer becomes its leader. Homer's vigilante group proves\n",
    "to be unsuccessful in catching the burglar, and is abusing power, harassing the neighborhood. Lisa and Marge point to the abuse of power of the vigilante group.\n",
    "Homer goes to the local TV News to talk about the actions of the vigilante group, when the burglar makes a phone call and taunts Homer, saying that he has Lisa's\n",
    "saxophone and Marge's necklace. The burglar also says that he will steal the Springfield museum cubic zirconia. Homer's vigilante group attempts to watch over\n",
    "the museum, but Homer gets drunk and the cubic zirconia is robbed. The whole town is mad at Homer because of his failure, and the vigilante group falls apart.\n",
    "Grandpa Simpson goes to Homer's house and tells the family that he discovered who is the burglar: Molloy, a colleague from the retirement home. All the town goes\n",
    "to the retirement home to catch Molloy, who apologizes and returns the stolen items. In the prison, Molloy tells Homer, police chief Wiggum and other officers\n",
    "that he hid millions of dollars, \"under a big T\". This leads the whole town in a treasure hunt. Molloy's instructions lead them to a tree with the shape of a T.\n",
    "They dig the site and only find a message from Molloy saying that the treasure hunt was only a trick to escape prison.'''\n",
    "\n",
    "reference = reference.replace('\\n', ' ')"
   ]
  },
  {
   "cell_type": "code",
   "execution_count": 46,
   "metadata": {},
   "outputs": [
    {
     "name": "stdout",
     "output_type": "stream",
     "text": [
      "BLEU = 3.43 48.5/16.2/2.6/0.2 (BP = 0.802 ratio = 0.820 hyp_len = 309 ref_len = 377)\n",
      "ROUGE-L-F 0.23906705040586843\n",
      "ROUGE-L-R 0.22777777777777777\n",
      "ROUGE-L-P 0.25153374233128833\n"
     ]
    }
   ],
   "source": [
    "rouge_scorer = Rouge()\n",
    "\n",
    "score = rouge_scorer.get_scores(\n",
    "    hyps=hypothesis,\n",
    "    refs=reference,\n",
    ")\n",
    "\n",
    "bleu = sacrebleu.sentence_bleu(hypothesis, [reference])\n",
    "\n",
    "print(bleu)\n",
    "print('ROUGE-L-F', score[0][\"rouge-l\"][\"f\"])\n",
    "print('ROUGE-L-R', score[0][\"rouge-l\"]['r'])\n",
    "print('ROUGE-L-P', score[0][\"rouge-l\"]['p'])"
   ]
  },
  {
   "cell_type": "markdown",
   "metadata": {},
   "source": [
    "Chunk 1"
   ]
  },
  {
   "cell_type": "code",
   "execution_count": 47,
   "metadata": {},
   "outputs": [],
   "source": [
    "hypothesis = '''The Simpsons home is robbed by the Springfield Cat Burglar, who steals various items including Lisa's saxophone,\n",
    "Marge's necklace, and Bart's stamp collection. The robbery sparks a neighborhood-wide crime spree, with many residents becoming victims.\n",
    "Chief Wiggum's inept investigation leads to a city-wide panic. Homer's initial apathy turns to action when Lisa is distraught over her\n",
    "stolen saxophone. The family implements new security measures, but Lisa remains despondent. The episode culminates in the formation of a\n",
    "neighborhood watch group, led by Homer, who plans to fight back against the burglar, despite Marge's concerns about their use of firearms.'''\n",
    "\n",
    "## Quebrando as linhas e juntando depois para melhor visualização\n",
    "hypothesis = hypothesis.replace('\\n', ' ')\n",
    "\n",
    "reference = '''The episode begins with an unidentified burglar entering the Simpsons house at night and stealing multiple objects,\n",
    "like Lisa's saxophone, Marge's pearl collar and a portable TV. In the morning, the Simpsons notice the missing objects, and find that\n",
    "the burglar left his business card. Ned flanders and multiple Springfield residents also have been robbed. Homer calls the police, who do\n",
    "nothing. The attempt of the police chief Wiggum in tracking the burglar is unsuccessful. The Springfield residents begin to install home security\n",
    "equipment. Lisa is still sad about losing her saxophone, which moves Homer into doing something. Ned Flanders suggests the creation of a vigilante\n",
    "group, and Homer becomes its leader.'''\n",
    "\n",
    "reference = reference.replace('\\n', ' ')"
   ]
  },
  {
   "cell_type": "code",
   "execution_count": 48,
   "metadata": {},
   "outputs": [
    {
     "name": "stdout",
     "output_type": "stream",
     "text": [
      "BLEU = 4.59 42.0/10.8/1.8/0.9 (BP = 0.875 ratio = 0.882 hyp_len = 112 ref_len = 127)\n",
      "ROUGE-L-F 0.263473048892395\n",
      "ROUGE-L-R 0.2619047619047619\n",
      "ROUGE-L-P 0.26506024096385544\n"
     ]
    }
   ],
   "source": [
    "score = rouge_scorer.get_scores(\n",
    "    hyps=hypothesis,\n",
    "    refs=reference,\n",
    ")\n",
    "\n",
    "bleu = sacrebleu.sentence_bleu(hypothesis, [reference])\n",
    "\n",
    "print(bleu)\n",
    "print('ROUGE-L-F', score[0][\"rouge-l\"][\"f\"])\n",
    "print('ROUGE-L-R', score[0][\"rouge-l\"]['r'])\n",
    "print('ROUGE-L-P', score[0][\"rouge-l\"]['p'])"
   ]
  },
  {
   "cell_type": "markdown",
   "metadata": {},
   "source": [
    "Chunk 2"
   ]
  },
  {
   "cell_type": "code",
   "execution_count": 49,
   "metadata": {},
   "outputs": [],
   "source": [
    "hypothesis = '''This dialogue chunk centers around Homer Simpson forming a vigilante group after a misunderstanding\n",
    "about responsible gun ownership. Many Springfield residents, including Barney, Skinner, Moe, Apu, and Otto, initially\n",
    "join Homer's group.  Grampa's attempts to participate are rebuffed by Homer due to his age.  The group's activities quickly\n",
    "escalate from minor infractions to heavy-handed enforcement, causing more problems than they solve. A subplot involves Homer's\n",
    "interaction with a beatnik who shows him a miniature A-bomb.  The group's actions are criticized by Marge and Lisa, who highlight\n",
    "the abuse of power. The climax involves a confrontation with a cat burglar on a live TV show, where the burglar reveals he has Lisa's\n",
    "saxophone and Marge's pearls. The group's ineptitude is further highlighted by their failure to prevent petty crimes and their involvement in new ones. \n",
    "The story ends with the group's downfall, Jimbo's disillusionment, and Homer's continued denial of his failures.'''\n",
    "\n",
    "## Quebrando as linhas e juntando depois para melhor visualização\n",
    "hypothesis = hypothesis.replace('\\n', ' ')\n",
    "\n",
    "reference = '''Homer's vigilante group proves to be unsuccessful in catching the burglar, and is abusing power, harassing the neighborhood.\n",
    "Lisa and Marge point to the abuse of power of the vigilante group. Homer goes to the local TV News to talk about the actions of the vigilante\n",
    "group, when the burglar makes a phone call and taunts Homer, saying that he has Lisa's saxophone and Marge's necklace. The burglar also says\n",
    "that he will steal the Springfield museum cubic zirconia.'''\n",
    "\n",
    "reference = reference.replace('\\n', ' ')"
   ]
  },
  {
   "cell_type": "code",
   "execution_count": 50,
   "metadata": {},
   "outputs": [
    {
     "name": "stdout",
     "output_type": "stream",
     "text": [
      "BLEU = 6.50 27.1/7.7/3.6/2.4 (BP = 1.000 ratio = 1.954 hyp_len = 170 ref_len = 87)\n",
      "ROUGE-L-F 0.2588235249543253\n",
      "ROUGE-L-R 0.38596491228070173\n",
      "ROUGE-L-P 0.19469026548672566\n"
     ]
    }
   ],
   "source": [
    "score = rouge_scorer.get_scores(\n",
    "    hyps=hypothesis,\n",
    "    refs=reference,\n",
    ")\n",
    "bleu = sacrebleu.sentence_bleu(hypothesis, [reference])\n",
    "\n",
    "print(bleu)\n",
    "print('ROUGE-L-F', score[0][\"rouge-l\"][\"f\"])\n",
    "print('ROUGE-L-R', score[0][\"rouge-l\"]['r'])\n",
    "print('ROUGE-L-P', score[0][\"rouge-l\"]['p'])"
   ]
  },
  {
   "cell_type": "markdown",
   "metadata": {},
   "source": [
    "Chunk 3"
   ]
  },
  {
   "cell_type": "code",
   "execution_count": 51,
   "metadata": {},
   "outputs": [],
   "source": [
    "hypothesis = '''This dialogue chunk centers around Homer Simpson's attempt to protect the Springfield Museum's prized\n",
    "cubic zirconia from a cat burglar. Key speakers include Homer, his father Grampa Simpson, Chief Wiggum, and the cat burglar,\n",
    "Molloy.  The conversation progresses from Homer's initial vow to protect the zirconia, to a chaotic scene involving children\n",
    "drinking underage, Homer's temporary job loss, and ultimately, Grampa's surprising role in catching Molloy. Grampa cleverly deduces\n",
    "Molloy's identity through observation and reveals him to be a resident of his retirement home. A significant revelation is that Molloy,\n",
    "despite his crime, is charming and remorseful, leading to a temporary outpouring of sympathy from the townspeople before Chief Wiggum arrests him. \n",
    "The dialogue concludes with a humorous twist: Molloy's vague directions about the location of his buried loot lead to a town-wide treasure hunt,\n",
    "ending in disappointment. The interaction between Homer and his family, particularly his reliance on Grampa's unexpected detective skills,\n",
    "is a key theme. The overall tone is comedic, highlighting the absurdity of the situation and the quirky characters involved.'''\n",
    "\n",
    "## Quebrando as linhas e juntando depois para melhor visualização\n",
    "hypothesis = hypothesis.replace('\\n', ' ')\n",
    "\n",
    "reference = '''\n",
    "Homer's vigilante group attempts to watch over the museum, but Homer gets drunk and the cubic zirconia is robbed.\n",
    "The whole town is mad at Homer because of his failure, and the vigilante group falls apart. Grandpa Simpson goes to Homer's \n",
    "house and tells the family that he discovered who is the burglar: Molloy, a colleague from the retirement home. All the town\n",
    "goes to the retirement home to catch Molloy, who apologizes and returns the stolen items.'''\n",
    "\n",
    "reference = reference.replace('\\n', ' ')"
   ]
  },
  {
   "cell_type": "code",
   "execution_count": 52,
   "metadata": {},
   "outputs": [
    {
     "name": "stdout",
     "output_type": "stream",
     "text": [
      "BLEU = 2.38 23.9/5.1/1.0/0.3 (BP = 1.000 ratio = 2.264 hyp_len = 197 ref_len = 87)\n",
      "ROUGE-L-F 0.18497109406127846\n",
      "ROUGE-L-R 0.3076923076923077\n",
      "ROUGE-L-P 0.1322314049586777\n"
     ]
    }
   ],
   "source": [
    "score = rouge_scorer.get_scores(\n",
    "    hyps=hypothesis,\n",
    "    refs=reference,\n",
    ")\n",
    "\n",
    "bleu = sacrebleu.sentence_bleu(hypothesis, [reference])\n",
    "\n",
    "print(bleu)\n",
    "print('ROUGE-L-F', score[0][\"rouge-l\"][\"f\"])\n",
    "print('ROUGE-L-R', score[0][\"rouge-l\"]['r'])\n",
    "print('ROUGE-L-P', score[0][\"rouge-l\"]['p'])"
   ]
  },
  {
   "cell_type": "markdown",
   "metadata": {},
   "source": [
    "Chunk 4"
   ]
  },
  {
   "cell_type": "code",
   "execution_count": 53,
   "metadata": {},
   "outputs": [],
   "source": [
    "hypothesis = '''The dialogue takes place across multiple locations (Springfield Police Station, downtown Springfield, a park)\n",
    "and involves several characters. Homer Simpson frantically searches for buried treasure, providing clues that lead Chief Wiggum \n",
    "and others on a wild goose chase.  Molloy provides a specific location for the treasure, but it turns out to be a false lead. \n",
    "The conversation jumps between the treasure hunt and other unrelated events, such as a panicked town evacuation reported by Kent\n",
    "Brockman and a seemingly unrelated incident involving a driver and a child.  Barney makes an irrelevant comment, and Otto Mann finds\n",
    "a piece of paper that Homer claims as his own, revealing it to be a note with an illegible signature. The Mayor joins the search, which\n",
    "ultimately proves fruitless. The dialogue ends with the group trapped and Homer making a mental note about someone knowing too much,\n",
    "suggesting a larger mystery or plot beyond the treasure hunt.'''\n",
    "\n",
    "## Quebrando as linhas e juntando depois para melhor visualização\n",
    "hypothesis = hypothesis.replace('\\n', ' ')\n",
    "\n",
    "reference = '''In the prison, Molloy tells Homer, police chief Wiggum and other officers that he hid millions of dollars, \"under a big T\".\n",
    "This leads the whole town in a treasure hunt. Molloy's instructions lead them to a tree with the shape of a T. They dig the site and only find \n",
    "a message from Molloy saying that the treasure hunt was only a trick to escape prison.'''\n",
    "\n",
    "reference = reference.replace('\\n', ' ')"
   ]
  },
  {
   "cell_type": "code",
   "execution_count": 54,
   "metadata": {},
   "outputs": [
    {
     "name": "stdout",
     "output_type": "stream",
     "text": [
      "BLEU = 2.35 21.1/4.1/1.2/0.3 (BP = 1.000 ratio = 2.250 hyp_len = 171 ref_len = 76)\n",
      "ROUGE-L-F 0.1604938228928518\n",
      "ROUGE-L-R 0.26\n",
      "ROUGE-L-P 0.11607142857142858\n"
     ]
    }
   ],
   "source": [
    "score = rouge_scorer.get_scores(\n",
    "    hyps=hypothesis,\n",
    "    refs=reference,\n",
    ")\n",
    "\n",
    "bleu = sacrebleu.sentence_bleu(hypothesis, [reference])\n",
    "\n",
    "print(bleu)\n",
    "print('ROUGE-L-F', score[0][\"rouge-l\"][\"f\"])\n",
    "print('ROUGE-L-R', score[0][\"rouge-l\"]['r'])\n",
    "print('ROUGE-L-P', score[0][\"rouge-l\"]['p'])"
   ]
  },
  {
   "cell_type": "markdown",
   "metadata": {},
   "source": [
    "## Questão 10 - Chain of Thoughts para Codificação"
   ]
  },
  {
   "cell_type": "markdown",
   "metadata": {},
   "source": [
    "Obs: O arquivo csv com o resultado da análise de sentimentos foi \"criado na mão\", pois fiz as questões 6 e 10 em dias diferentes, portanto as variáveis foram perdidas, e rodando o notebook novamente, existiria grandes chances da classificação gerada pelo LLM ser diferente."
   ]
  },
  {
   "cell_type": "markdown",
   "metadata": {},
   "source": [
    "Iniciando o modelo gemini no modo chat"
   ]
  },
  {
   "cell_type": "code",
   "execution_count": 55,
   "metadata": {},
   "outputs": [],
   "source": [
    "model = genai.GenerativeModel(\"gemini-1.5-pro\")\n",
    "chat = model.start_chat(history=[])"
   ]
  },
  {
   "cell_type": "code",
   "execution_count": 56,
   "metadata": {},
   "outputs": [
    {
     "name": "stdout",
     "output_type": "stream",
     "text": [
      "```python\n",
      "import streamlit as st\n",
      "\n",
      "st.title(\"Hello World\")\n",
      "```\n",
      "\n"
     ]
    }
   ],
   "source": [
    "response = chat.send_message(content='''Crie um código python com a biblioteca streamlit\n",
    "                             que tenha o título: Hello World. O output deve ser\n",
    "                             somente o código python puro, sem explicações.\n",
    "                             Não use caracteres especias como letras com acentuação \n",
    "                             nos textos e títulos.''')\n",
    "print(response.text)"
   ]
  },
  {
   "cell_type": "code",
   "execution_count": 57,
   "metadata": {},
   "outputs": [
    {
     "name": "stdout",
     "output_type": "stream",
     "text": [
      "```python\n",
      "import streamlit as st\n",
      "import pandas as pd\n",
      "import os\n",
      "\n",
      "filepath = os.path.abspath(os.path.join('.', 'data', 'sentiment_analysis.csv'))\n",
      "df = pd.read_csv(filepath)\n",
      "\n",
      "st.write(df)\n",
      "\n",
      "```\n",
      "\n"
     ]
    }
   ],
   "source": [
    "response = chat.send_message(content='''Altere o código anterior para que ele leia um\n",
    "                             arquivo csv e crie um dataframe pandas. O arquivo csv a ser \n",
    "                             lido está no seguinte caminho absoluto: os.path.abspath(os.path.join('.', 'data', sentiment_analysis.csv')).\n",
    "                             O output deve ser somente o código python puro, sem explicações.''')\n",
    "\n",
    "print(response.text)"
   ]
  },
  {
   "cell_type": "code",
   "execution_count": 58,
   "metadata": {},
   "outputs": [
    {
     "name": "stdout",
     "output_type": "stream",
     "text": [
      "```python\n",
      "import streamlit as st\n",
      "import pandas as pd\n",
      "import os\n",
      "import plotly.express as px\n",
      "\n",
      "filepath = os.path.abspath(os.path.join('.', 'data', 'sentiment_analysis.csv'))\n",
      "df = pd.read_csv(filepath)\n",
      "\n",
      "st.title(\"Analise de Sentimentos: Falas dos Simpsons\")\n",
      "\n",
      "fig = px.pie(df, values='counts', names='sentiment', title='Distribuicao de Sentimentos')\n",
      "st.plotly_chart(fig)\n",
      "\n",
      "\n",
      "```\n"
     ]
    }
   ],
   "source": [
    "response = chat.send_message(content='''Crie um gráfico de pizza com os dados do arquivo csv carregado como dataframe pandas.\n",
    "                             O dataframe tem duas colunas: sentiment, com o nome do sentimento, e counts,\n",
    "                             com a quantidade de falas que foram classificadas para casa sentimento. \n",
    "                             O título deve ser mudado para: Análise de Sentimentos: Falas dos Simpsons.\n",
    "                             O gráfico deve ter labels e título informativos.\n",
    "                             O output deve ser somente o código python puro, sem explicações.\n",
    "                            ''')\n",
    "\n",
    "print(response.text)"
   ]
  },
  {
   "cell_type": "markdown",
   "metadata": {},
   "source": [
    "Criando o arquivo python com as linhas de código:"
   ]
  },
  {
   "cell_type": "code",
   "execution_count": 59,
   "metadata": {},
   "outputs": [],
   "source": [
    "codelines = response.text.replace(\"```python\\n\",'').replace(\"\\n```\",'')\n",
    "with open('sentiment_analysis.py','w') as fid:\n",
    "    fid.write(codelines)"
   ]
  }
 ],
 "metadata": {
  "kernelspec": {
   "display_name": ".venv",
   "language": "python",
   "name": "python3"
  },
  "language_info": {
   "codemirror_mode": {
    "name": "ipython",
    "version": 3
   },
   "file_extension": ".py",
   "mimetype": "text/x-python",
   "name": "python",
   "nbconvert_exporter": "python",
   "pygments_lexer": "ipython3",
   "version": "3.11.9"
  }
 },
 "nbformat": 4,
 "nbformat_minor": 2
}
